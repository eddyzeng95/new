{
  "nbformat": 4,
  "nbformat_minor": 0,
  "metadata": {
    "colab": {
      "name": "MSIS549_HW1_newswires.ipynb",
      "provenance": [],
      "collapsed_sections": []
    },
    "language_info": {
      "codemirror_mode": {
        "name": "ipython",
        "version": 3
      },
      "file_extension": ".py",
      "mimetype": "text/x-python",
      "name": "python",
      "nbconvert_exporter": "python",
      "pygments_lexer": "ipython3",
      "version": "3.5.2"
    },
    "kernelspec": {
      "display_name": "Python 3",
      "language": "python",
      "name": "python3"
    }
  },
  "cells": [
    {
      "cell_type": "code",
      "metadata": {
        "id": "_0lDkFZq3ohI",
        "colab_type": "code",
        "outputId": "000ab56a-019c-45cb-cdfe-e1ae69d7a742",
        "colab": {
          "base_uri": "https://localhost:8080/",
          "height": 140
        }
      },
      "source": [
        "%tensorflow_version 1.14\n",
        "%matplotlib inline\n",
        "import warnings\n",
        "warnings.filterwarnings('ignore')\n",
        "\n",
        "import tensorflow as tf\n",
        "tf.logging.set_verbosity(tf.logging.ERROR)\n",
        "\n",
        "import keras\n",
        "keras.__version__\n",
        "\n",
        "!pip install numpy==1.16.1\n",
        "import numpy as np"
      ],
      "execution_count": 0,
      "outputs": [
        {
          "output_type": "stream",
          "text": [
            "`%tensorflow_version` only switches the major version: 1.x or 2.x.\n",
            "You set: `1.14`. This will be interpreted as: `1.x`.\n",
            "\n",
            "\n",
            "TensorFlow 1.x selected.\n"
          ],
          "name": "stdout"
        },
        {
          "output_type": "stream",
          "text": [
            "Using TensorFlow backend.\n"
          ],
          "name": "stderr"
        },
        {
          "output_type": "stream",
          "text": [
            "Requirement already satisfied: numpy==1.16.1 in /usr/local/lib/python3.6/dist-packages (1.16.1)\n"
          ],
          "name": "stdout"
        }
      ]
    },
    {
      "cell_type": "markdown",
      "metadata": {
        "id": "bu5jf9gW3ohR",
        "colab_type": "text"
      },
      "source": [
        "# Classifying newswires: a multi-class classification example\n",
        "\n",
        "In this homework, we will build a network to classify Reuters newswires into 46 different mutually-exclusive topics. Since we have many \n",
        "classes, this problem is an instance of \"multi-class classification\", and since each data point should be classified into only one \n",
        "category, the problem is more specifically an instance of \"single-label, multi-class classification\"."
      ]
    },
    {
      "cell_type": "markdown",
      "metadata": {
        "id": "_-s49gXW3ohT",
        "colab_type": "text"
      },
      "source": [
        "## The Reuters dataset\n",
        "\n",
        "\n",
        "We will be working with the _Reuters dataset_, a set of short newswires and their topics, published by Reuters in 1986. It's a very simple, \n",
        "widely used toy dataset for text classification. There are 46 different topics; some topics are more represented than others, but each \n",
        "topic has at least 10 examples in the training set.\n",
        "\n",
        "Like IMDB and MNIST, the Reuters dataset comes packaged as part of Keras. Let's take a look right away:"
      ]
    },
    {
      "cell_type": "code",
      "metadata": {
        "id": "yjSiBNZS3ohU",
        "colab_type": "code",
        "colab": {}
      },
      "source": [
        "from keras.datasets import reuters\n",
        "\n",
        "(train_data, train_labels), (test_data, test_labels) = reuters.load_data(num_words=10000)"
      ],
      "execution_count": 0,
      "outputs": []
    },
    {
      "cell_type": "markdown",
      "metadata": {
        "id": "-VRrIjNI3ohX",
        "colab_type": "text"
      },
      "source": [
        "\n",
        "Like with the IMDB dataset, the argument `num_words=10000` restricts the data to the 10,000 most frequently occurring words found in the \n",
        "data.\n",
        "\n",
        "We have 8,982 training examples and 2,246 test examples:"
      ]
    },
    {
      "cell_type": "markdown",
      "metadata": {
        "id": "FMdiLzvF3ohf",
        "colab_type": "text"
      },
      "source": [
        "As with the IMDB reviews, each example is a list of integers (word indices):"
      ]
    },
    {
      "cell_type": "code",
      "metadata": {
        "id": "QriVgMSe3ohg",
        "colab_type": "code",
        "outputId": "17d64a3a-b8ba-4169-ab43-fb55506c34d8",
        "colab": {
          "base_uri": "https://localhost:8080/",
          "height": 1000
        }
      },
      "source": [
        "train_data[0]"
      ],
      "execution_count": 0,
      "outputs": [
        {
          "output_type": "execute_result",
          "data": {
            "text/plain": [
              "[1,\n",
              " 2,\n",
              " 2,\n",
              " 8,\n",
              " 43,\n",
              " 10,\n",
              " 447,\n",
              " 5,\n",
              " 25,\n",
              " 207,\n",
              " 270,\n",
              " 5,\n",
              " 3095,\n",
              " 111,\n",
              " 16,\n",
              " 369,\n",
              " 186,\n",
              " 90,\n",
              " 67,\n",
              " 7,\n",
              " 89,\n",
              " 5,\n",
              " 19,\n",
              " 102,\n",
              " 6,\n",
              " 19,\n",
              " 124,\n",
              " 15,\n",
              " 90,\n",
              " 67,\n",
              " 84,\n",
              " 22,\n",
              " 482,\n",
              " 26,\n",
              " 7,\n",
              " 48,\n",
              " 4,\n",
              " 49,\n",
              " 8,\n",
              " 864,\n",
              " 39,\n",
              " 209,\n",
              " 154,\n",
              " 6,\n",
              " 151,\n",
              " 6,\n",
              " 83,\n",
              " 11,\n",
              " 15,\n",
              " 22,\n",
              " 155,\n",
              " 11,\n",
              " 15,\n",
              " 7,\n",
              " 48,\n",
              " 9,\n",
              " 4579,\n",
              " 1005,\n",
              " 504,\n",
              " 6,\n",
              " 258,\n",
              " 6,\n",
              " 272,\n",
              " 11,\n",
              " 15,\n",
              " 22,\n",
              " 134,\n",
              " 44,\n",
              " 11,\n",
              " 15,\n",
              " 16,\n",
              " 8,\n",
              " 197,\n",
              " 1245,\n",
              " 90,\n",
              " 67,\n",
              " 52,\n",
              " 29,\n",
              " 209,\n",
              " 30,\n",
              " 32,\n",
              " 132,\n",
              " 6,\n",
              " 109,\n",
              " 15,\n",
              " 17,\n",
              " 12]"
            ]
          },
          "metadata": {
            "tags": []
          },
          "execution_count": 3
        }
      ]
    },
    {
      "cell_type": "markdown",
      "metadata": {
        "id": "kIvaOPin3ohj",
        "colab_type": "text"
      },
      "source": [
        "Here's how you can decode it back to words, in case you are curious:"
      ]
    },
    {
      "cell_type": "code",
      "metadata": {
        "id": "EZg6ME3Y3ohk",
        "colab_type": "code",
        "outputId": "528cf5d4-dbd4-49b3-e58b-54d16953c801",
        "colab": {
          "base_uri": "https://localhost:8080/",
          "height": 54
        }
      },
      "source": [
        "word_index = reuters.get_word_index()\n",
        "reverse_word_index = dict([(value, key) for (key, value) in word_index.items()])\n",
        "# Note that our indices were offset by 3\n",
        "# because 0, 1 and 2 are reserved indices for \"padding\", \"start of sequence\", and \"unknown\".\n",
        "decoded_newswire = ' '.join([reverse_word_index.get(i - 3, '?') for i in train_data[0]])\n",
        "\n",
        "print(\"The decoded text:\" + decoded_newswire)"
      ],
      "execution_count": 0,
      "outputs": [
        {
          "output_type": "stream",
          "text": [
            "The decoded text:? ? ? said as a result of its december acquisition of space co it expects earnings per share in 1987 of 1 15 to 1 30 dlrs per share up from 70 cts in 1986 the company said pretax net should rise to nine to 10 mln dlrs from six mln dlrs in 1986 and rental operation revenues to 19 to 22 mln dlrs from 12 5 mln dlrs it said cash flow per share this year should be 2 50 to three dlrs reuter 3\n"
          ],
          "name": "stdout"
        }
      ]
    },
    {
      "cell_type": "markdown",
      "metadata": {
        "id": "yntI1JS33oho",
        "colab_type": "text"
      },
      "source": [
        "The label associated with an example is an integer between 0 and 45: a topic index."
      ]
    },
    {
      "cell_type": "code",
      "metadata": {
        "id": "swMqUzqz3ohq",
        "colab_type": "code",
        "outputId": "f4147a5d-5eb7-450e-f8d6-fa56613b079d",
        "colab": {
          "base_uri": "https://localhost:8080/",
          "height": 34
        }
      },
      "source": [
        "train_labels[0]"
      ],
      "execution_count": 0,
      "outputs": [
        {
          "output_type": "execute_result",
          "data": {
            "text/plain": [
              "3"
            ]
          },
          "metadata": {
            "tags": []
          },
          "execution_count": 5
        }
      ]
    },
    {
      "cell_type": "markdown",
      "metadata": {
        "id": "fsLn40NK3oht",
        "colab_type": "text"
      },
      "source": [
        "## Preparing the data\n",
        "\n",
        "We can vectorize the data with the exact same code as in our previous example:"
      ]
    },
    {
      "cell_type": "code",
      "metadata": {
        "id": "NDol7z_43ohu",
        "colab_type": "code",
        "colab": {}
      },
      "source": [
        "import numpy as np\n",
        "\n",
        "def vectorize_sequences(sequences, dimension=10000):\n",
        "    results = np.zeros((len(sequences), dimension))\n",
        "    for i, sequence in enumerate(sequences):\n",
        "        results[i, sequence] = 1.\n",
        "    return results\n",
        "\n",
        "# Our vectorized training data\n",
        "x_train = vectorize_sequences(train_data)\n",
        "# Our vectorized test data\n",
        "x_test = vectorize_sequences(test_data)"
      ],
      "execution_count": 0,
      "outputs": []
    },
    {
      "cell_type": "markdown",
      "metadata": {
        "id": "9pte7Qr63ohv",
        "colab_type": "text"
      },
      "source": [
        "\n",
        "Use \"one-hot\" encoding to vectorize the labels. One-hot encoding is a widely used format for categorical data, also called \"categorical encoding\". In our case, one-hot encoding of our labels consists in embedding each label as an all-zero vector with a 1 in the place of the label index. Note that there is a built-in way to do this in Keras."
      ]
    },
    {
      "cell_type": "code",
      "metadata": {
        "id": "XO_SmjOD3ohy",
        "colab_type": "code",
        "colab": {}
      },
      "source": [
        "from keras.utils.np_utils import to_categorical\n",
        "\n",
        "one_hot_train_labels = to_categorical(train_labels)\n",
        "one_hot_test_labels = to_categorical(test_labels)"
      ],
      "execution_count": 0,
      "outputs": []
    },
    {
      "cell_type": "markdown",
      "metadata": {
        "id": "rMvTFcc03ohz",
        "colab_type": "text"
      },
      "source": [
        "## Building our network\n",
        "\n",
        "\n",
        "This topic classification problem looks very similar to our previous movie review classification problem: in both cases, we are trying to \n",
        "classify short snippets of text. There is however a new constraint here: the number of output classes has gone from 2 to 46, i.e. the \n",
        "dimensionality of the output space is much larger. \n",
        "\n",
        "In a stack of `Dense` layers like what we were using, each layer can only access information present in the output of the previous layer. \n",
        "If one layer drops some information relevant to the classification problem, this information can never be recovered by later layers: each \n",
        "layer can potentially become an \"information bottleneck\". In our previous example, we were using 16-dimensional intermediate layers, but a \n",
        "16-dimensional space may be too limited to learn to separate 46 different classes: such small layers may act as information bottlenecks, \n",
        "permanently dropping relevant information.\n",
        "\n",
        "For this reason we will use larger layers. Let's go with 64 units:"
      ]
    },
    {
      "cell_type": "code",
      "metadata": {
        "id": "HdhwRTjx3ohz",
        "colab_type": "code",
        "outputId": "ec4a862e-5c4c-40fc-c7b9-e0ca630f6d51",
        "colab": {
          "base_uri": "https://localhost:8080/",
          "height": 263
        }
      },
      "source": [
        "from keras import models\n",
        "from keras import layers\n",
        "\n",
        "# TODO: specify the architecture of the model.\n",
        "model = models.Sequential()\n",
        "model.add(layers.Dense(64, activation='relu', input_shape=(10000,)))\n",
        "model.add(layers.Dense(64, activation='relu'))\n",
        "model.add(layers.Dense(46, activation='softmax'))\n",
        "\n",
        "model.summary()"
      ],
      "execution_count": 0,
      "outputs": [
        {
          "output_type": "stream",
          "text": [
            "Model: \"sequential_1\"\n",
            "_________________________________________________________________\n",
            "Layer (type)                 Output Shape              Param #   \n",
            "=================================================================\n",
            "dense_1 (Dense)              (None, 64)                640064    \n",
            "_________________________________________________________________\n",
            "dense_2 (Dense)              (None, 64)                4160      \n",
            "_________________________________________________________________\n",
            "dense_3 (Dense)              (None, 46)                2990      \n",
            "=================================================================\n",
            "Total params: 647,214\n",
            "Trainable params: 647,214\n",
            "Non-trainable params: 0\n",
            "_________________________________________________________________\n"
          ],
          "name": "stdout"
        }
      ]
    },
    {
      "cell_type": "markdown",
      "metadata": {
        "id": "V-Aj666N3oh1",
        "colab_type": "text"
      },
      "source": [
        "\n",
        "There are two other things you should note about this architecture:\n",
        "\n",
        "* We are ending the network with a `Dense` layer of size 46. This means that for each input sample, our network will output a \n",
        "46-dimensional vector. Each entry in this vector (each dimension) will encode a different output class.\n",
        "* The last layer uses a `softmax` activation. You have already seen this pattern in the MNIST example. It means that the network will \n",
        "output a _probability distribution_ over the 46 different output classes, i.e. for every input sample, the network will produce a \n",
        "46-dimensional output vector where `output[i]` is the probability that the sample belongs to class `i`. The 46 scores will sum to 1.\n",
        "\n",
        "The best loss function to use in this case is `categorical_crossentropy`. It measures the distance between two probability distributions: \n",
        "in our case, between the probability distribution output by our network, and the true distribution of the labels. By minimizing the \n",
        "distance between these two distributions, we train our network to output something as close as possible to the true labels."
      ]
    },
    {
      "cell_type": "code",
      "metadata": {
        "id": "AhmA6zNZ3oh1",
        "colab_type": "code",
        "colab": {}
      },
      "source": [
        "# TODO: compile the model you just built\n",
        "model.compile(\n",
        "    optimizer = 'rmsprop',\n",
        "    loss='categorical_crossentropy',\n",
        "    metrics=['accuracy']\n",
        ")"
      ],
      "execution_count": 0,
      "outputs": []
    },
    {
      "cell_type": "markdown",
      "metadata": {
        "id": "TGB_cp8B3oh2",
        "colab_type": "text"
      },
      "source": [
        "## Validating our approach\n",
        "\n",
        "Let's set apart 1,000 samples in our training data to use as a validation set:"
      ]
    },
    {
      "cell_type": "code",
      "metadata": {
        "id": "Y3eyzgOA3oh2",
        "colab_type": "code",
        "colab": {}
      },
      "source": [
        "x_val = x_train[:1000]\n",
        "partial_x_train = x_train[1000:]\n",
        "\n",
        "y_val = one_hot_train_labels[:1000]\n",
        "partial_y_train = one_hot_train_labels[1000:]"
      ],
      "execution_count": 0,
      "outputs": []
    },
    {
      "cell_type": "markdown",
      "metadata": {
        "id": "vIFUZkt43oh3",
        "colab_type": "text"
      },
      "source": [
        "Now let's train our network for 20 epochs:"
      ]
    },
    {
      "cell_type": "code",
      "metadata": {
        "id": "MM57jbod3oh3",
        "colab_type": "code",
        "outputId": "c2d977ca-0a9c-4321-8a4e-ec96a9b6e391",
        "colab": {
          "base_uri": "https://localhost:8080/",
          "height": 738
        }
      },
      "source": [
        "# TODO: fit the model with the training dataset and provide validation data \n",
        "# to help check overfitting\n",
        "\n",
        "history = model.fit(\n",
        "    partial_x_train, \n",
        "    partial_y_train, \n",
        "    epochs=20, \n",
        "    batch_size=512, \n",
        "    validation_data=(x_val, y_val)\n",
        ")"
      ],
      "execution_count": 0,
      "outputs": [
        {
          "output_type": "stream",
          "text": [
            "Train on 7982 samples, validate on 1000 samples\n",
            "Epoch 1/20\n",
            "7982/7982 [==============================] - 1s 146us/step - loss: 2.5471 - accuracy: 0.5425 - val_loss: 1.6878 - val_accuracy: 0.6570\n",
            "Epoch 2/20\n",
            "7982/7982 [==============================] - 1s 123us/step - loss: 1.3869 - accuracy: 0.7127 - val_loss: 1.2748 - val_accuracy: 0.7110\n",
            "Epoch 3/20\n",
            "7982/7982 [==============================] - 1s 127us/step - loss: 1.0272 - accuracy: 0.7789 - val_loss: 1.1040 - val_accuracy: 0.7650\n",
            "Epoch 4/20\n",
            "7982/7982 [==============================] - 1s 126us/step - loss: 0.8088 - accuracy: 0.8256 - val_loss: 1.0116 - val_accuracy: 0.7850\n",
            "Epoch 5/20\n",
            "7982/7982 [==============================] - 1s 125us/step - loss: 0.6414 - accuracy: 0.8623 - val_loss: 0.9648 - val_accuracy: 0.7870\n",
            "Epoch 6/20\n",
            "7982/7982 [==============================] - 1s 127us/step - loss: 0.5057 - accuracy: 0.8941 - val_loss: 0.9148 - val_accuracy: 0.8050\n",
            "Epoch 7/20\n",
            "7982/7982 [==============================] - 1s 128us/step - loss: 0.4091 - accuracy: 0.9143 - val_loss: 0.8891 - val_accuracy: 0.8180\n",
            "Epoch 8/20\n",
            "7982/7982 [==============================] - 1s 127us/step - loss: 0.3290 - accuracy: 0.9321 - val_loss: 0.9184 - val_accuracy: 0.8070\n",
            "Epoch 9/20\n",
            "7982/7982 [==============================] - 1s 127us/step - loss: 0.2759 - accuracy: 0.9401 - val_loss: 0.9070 - val_accuracy: 0.8130\n",
            "Epoch 10/20\n",
            "7982/7982 [==============================] - 1s 127us/step - loss: 0.2298 - accuracy: 0.9475 - val_loss: 0.9116 - val_accuracy: 0.8150\n",
            "Epoch 11/20\n",
            "7982/7982 [==============================] - 1s 127us/step - loss: 0.1997 - accuracy: 0.9499 - val_loss: 0.9135 - val_accuracy: 0.8150\n",
            "Epoch 12/20\n",
            "7982/7982 [==============================] - 1s 128us/step - loss: 0.1769 - accuracy: 0.9523 - val_loss: 0.9377 - val_accuracy: 0.8130\n",
            "Epoch 13/20\n",
            "7982/7982 [==============================] - 1s 130us/step - loss: 0.1597 - accuracy: 0.9540 - val_loss: 1.0286 - val_accuracy: 0.8070\n",
            "Epoch 14/20\n",
            "7982/7982 [==============================] - 1s 129us/step - loss: 0.1499 - accuracy: 0.9550 - val_loss: 0.9467 - val_accuracy: 0.8090\n",
            "Epoch 15/20\n",
            "7982/7982 [==============================] - 1s 130us/step - loss: 0.1342 - accuracy: 0.9567 - val_loss: 0.9782 - val_accuracy: 0.8050\n",
            "Epoch 16/20\n",
            "7982/7982 [==============================] - 1s 129us/step - loss: 0.1298 - accuracy: 0.9559 - val_loss: 1.0022 - val_accuracy: 0.8070\n",
            "Epoch 17/20\n",
            "7982/7982 [==============================] - 1s 127us/step - loss: 0.1226 - accuracy: 0.9577 - val_loss: 1.0850 - val_accuracy: 0.7940\n",
            "Epoch 18/20\n",
            "7982/7982 [==============================] - 1s 125us/step - loss: 0.1254 - accuracy: 0.9563 - val_loss: 1.0557 - val_accuracy: 0.8070\n",
            "Epoch 19/20\n",
            "7982/7982 [==============================] - 1s 125us/step - loss: 0.1126 - accuracy: 0.9587 - val_loss: 1.0245 - val_accuracy: 0.8140\n",
            "Epoch 20/20\n",
            "7982/7982 [==============================] - 1s 126us/step - loss: 0.1112 - accuracy: 0.9580 - val_loss: 1.0509 - val_accuracy: 0.8040\n"
          ],
          "name": "stdout"
        }
      ]
    },
    {
      "cell_type": "markdown",
      "metadata": {
        "id": "Rq5P0gWQ3oh5",
        "colab_type": "text"
      },
      "source": [
        "Let's display its loss and accuracy curves to help identify when it starts to overfit."
      ]
    },
    {
      "cell_type": "code",
      "metadata": {
        "id": "EIRFHE0U3oh5",
        "colab_type": "code",
        "outputId": "f6cdb585-391d-413d-d80c-22f4bb1a4e52",
        "colab": {
          "base_uri": "https://localhost:8080/",
          "height": 295
        }
      },
      "source": [
        "import matplotlib.pyplot as plt\n",
        "\n",
        "# TODO: plot the model loss on both training and validation data. \n",
        "\n",
        "loss = history.history['loss']\n",
        "val_loss = history.history['val_loss']\n",
        "acc = history.history['accuracy']\n",
        "val_acc = history.history['val_accuracy']\n",
        "\n",
        "epochs = range(1, len(acc) + 1)\n",
        "\n",
        "# \"bo\" is for \"blue dot\"\n",
        "plt.plot(epochs, loss, 'bo', label='Training loss')\n",
        "# b is for \"solid blue line\"\n",
        "plt.plot(epochs, val_loss, 'b', label='Validation loss')\n",
        "plt.title('Training and validation loss')\n",
        "plt.xlabel('Epochs')\n",
        "plt.ylabel('Loss')\n",
        "plt.legend()\n",
        "\n",
        "plt.show()"
      ],
      "execution_count": 0,
      "outputs": [
        {
          "output_type": "display_data",
          "data": {
            "image/png": "[encoded data removed]",
            "text/plain": [
              "<Figure size 432x288 with 1 Axes>"
            ]
          },
          "metadata": {
            "tags": [],
            "needs_background": "light"
          }
        }
      ]
    },
    {
      "cell_type": "code",
      "metadata": {
        "id": "M69rtt143oh6",
        "colab_type": "code",
        "outputId": "30489e44-fa5c-49b6-f2d0-d02ff3604beb",
        "colab": {
          "base_uri": "https://localhost:8080/",
          "height": 295
        }
      },
      "source": [
        "# TODO: plot prediction accuracy on both training and validation data. \n",
        "\n",
        "plt.clf()   # clear figure\n",
        "\n",
        "plt.plot(epochs, acc, 'bo', label='Training acc')\n",
        "plt.plot(epochs, val_acc, 'b', label='Validation acc')\n",
        "plt.title('Training and validation accuracy')\n",
        "plt.xlabel('Epochs')\n",
        "plt.ylabel('Loss')\n",
        "plt.legend()\n",
        "\n",
        "plt.show()"
      ],
      "execution_count": 0,
      "outputs": [
        {
          "output_type": "display_data",
          "data": {
            "image/png": "[encoded data removed]",
            "text/plain": [
              "<Figure size 432x288 with 1 Axes>"
            ]
          },
          "metadata": {
            "tags": [],
            "needs_background": "light"
          }
        }
      ]
    },
    {
      "cell_type": "markdown",
      "metadata": {
        "id": "LUarkgZd3oh7",
        "colab_type": "text"
      },
      "source": [
        "It seems that the network starts overfitting after certain epochs. Let's train a new network from scratch for fewer epochs before it starts overfitting, then let's evaluate it on the test set:"
      ]
    },
    {
      "cell_type": "code",
      "metadata": {
        "id": "IciZ2dMP3oh8",
        "colab_type": "code",
        "outputId": "c753e0fe-68a0-4342-e164-e54f64634a9a",
        "colab": {
          "base_uri": "https://localhost:8080/",
          "height": 334
        }
      },
      "source": [
        "# TODO: retrain the model with the fewer epoches to avoid overfitting\n",
        "\n",
        "# Set new epoches to 8\n",
        "\n",
        "model2 = models.Sequential()\n",
        "model2.add(layers.Dense(64, activation='relu', input_shape=(10000,)))\n",
        "model2.add(layers.Dense(64, activation='relu'))\n",
        "model2.add(layers.Dense(46, activation='softmax'))\n",
        "\n",
        "model2.compile(\n",
        "    optimizer = 'rmsprop',\n",
        "    loss='categorical_crossentropy',\n",
        "    metrics=['accuracy']\n",
        ")\n",
        "\n",
        "model2.fit(\n",
        "    partial_x_train, \n",
        "    partial_y_train, \n",
        "    epochs=8, \n",
        "    batch_size=512, \n",
        "    validation_data=(x_val, y_val)\n",
        ")"
      ],
      "execution_count": 0,
      "outputs": [
        {
          "output_type": "stream",
          "text": [
            "Train on 7982 samples, validate on 1000 samples\n",
            "Epoch 1/8\n",
            "7982/7982 [==============================] - 1s 137us/step - loss: 2.8652 - accuracy: 0.4597 - val_loss: 1.9489 - val_accuracy: 0.6420\n",
            "Epoch 2/8\n",
            "7982/7982 [==============================] - 1s 124us/step - loss: 1.5341 - accuracy: 0.7031 - val_loss: 1.3736 - val_accuracy: 0.7200\n",
            "Epoch 3/8\n",
            "7982/7982 [==============================] - 1s 124us/step - loss: 1.0883 - accuracy: 0.7799 - val_loss: 1.1577 - val_accuracy: 0.7590\n",
            "Epoch 4/8\n",
            "7982/7982 [==============================] - 1s 127us/step - loss: 0.8503 - accuracy: 0.8270 - val_loss: 1.0677 - val_accuracy: 0.7700\n",
            "Epoch 5/8\n",
            "7982/7982 [==============================] - 1s 125us/step - loss: 0.6771 - accuracy: 0.8612 - val_loss: 0.9795 - val_accuracy: 0.7950\n",
            "Epoch 6/8\n",
            "7982/7982 [==============================] - 1s 125us/step - loss: 0.5400 - accuracy: 0.8905 - val_loss: 0.9400 - val_accuracy: 0.7920\n",
            "Epoch 7/8\n",
            "7982/7982 [==============================] - 1s 127us/step - loss: 0.4343 - accuracy: 0.9118 - val_loss: 0.9170 - val_accuracy: 0.8110\n",
            "Epoch 8/8\n",
            "7982/7982 [==============================] - 1s 124us/step - loss: 0.3532 - accuracy: 0.9280 - val_loss: 0.9069 - val_accuracy: 0.8210\n"
          ],
          "name": "stdout"
        },
        {
          "output_type": "execute_result",
          "data": {
            "text/plain": [
              "<keras.callbacks.callbacks.History at 0x7f2c562144a8>"
            ]
          },
          "metadata": {
            "tags": []
          },
          "execution_count": 14
        }
      ]
    },
    {
      "cell_type": "markdown",
      "metadata": {
        "id": "XQ3VcXyx3oh_",
        "colab_type": "text"
      },
      "source": [
        "\n",
        "Your model should reach an accuracy of ~78%. With a balanced binary classification problem, the accuracy reached by a purely random classifier \n",
        "would be 50%, but in our case it is closer to 19%, so our results seem pretty good, at least when compared to a random baseline."
      ]
    },
    {
      "cell_type": "markdown",
      "metadata": {
        "id": "FEzjb1m33oiA",
        "colab_type": "text"
      },
      "source": [
        "## Generating predictions on new data\n",
        "\n",
        "We can verify that the `predict` method of our model instance returns a probability distribution over all 46 topics. Let's generate topic \n",
        "predictions for all of the test data:"
      ]
    },
    {
      "cell_type": "code",
      "metadata": {
        "id": "lIuTWvUq3oiB",
        "colab_type": "code",
        "outputId": "9a910ea4-0784-4597-e339-e1d1b76de1f1",
        "colab": {
          "base_uri": "https://localhost:8080/",
          "height": 246
        }
      },
      "source": [
        "# TODO: use the learnt neural network to make a prediction on \n",
        "# the test data \n",
        "\n",
        "# np.set_printoptions(threshold=np.inf)\n",
        "\n",
        "model2.predict(x_test)"
      ],
      "execution_count": 0,
      "outputs": [
        {
          "output_type": "execute_result",
          "data": {
            "text/plain": [
              "array([[4.6109206e-05, 5.3932960e-04, 1.4242892e-04, ..., 2.7019950e-04,\n",
              "        7.2989383e-06, 4.6669057e-04],\n",
              "       [2.0433486e-02, 3.4853879e-02, 3.4796246e-03, ..., 6.2525284e-04,\n",
              "        4.9502029e-07, 9.6806980e-06],\n",
              "       [2.2765668e-02, 6.5555310e-01, 1.2131215e-02, ..., 3.6133749e-03,\n",
              "        3.2795724e-04, 8.1115490e-04],\n",
              "       ...,\n",
              "       [2.3561883e-05, 3.4700744e-04, 5.8352827e-05, ..., 2.1085234e-05,\n",
              "        1.1242086e-06, 1.3138606e-04],\n",
              "       [2.3357368e-03, 1.4703313e-02, 3.3695092e-03, ..., 1.4821028e-03,\n",
              "        8.8032408e-05, 2.4247295e-03],\n",
              "       [3.1198463e-03, 5.7035494e-01, 6.4843879e-03, ..., 8.7538268e-04,\n",
              "        9.9792240e-05, 3.3613076e-04]], dtype=float32)"
            ]
          },
          "metadata": {
            "tags": []
          },
          "execution_count": 15
        }
      ]
    },
    {
      "cell_type": "markdown",
      "metadata": {
        "id": "O1LzmGXx3oiB",
        "colab_type": "text"
      },
      "source": [
        "Each entry in `predictions` is a vector of length 46. **The** largest entry is the predicted class, i.e. the class with the highest probability:"
      ]
    },
    {
      "cell_type": "code",
      "metadata": {
        "id": "L3RyKAsw3oiB",
        "colab_type": "code",
        "outputId": "62c527b6-5cff-4279-82ec-094720cca037",
        "colab": {
          "base_uri": "https://localhost:8080/",
          "height": 34
        }
      },
      "source": [
        "# TODO: evaluate model performance in terms of accuracy on prediction against the ground truth.\n",
        "\n",
        "test_loss, test_acc = model2.evaluate(x_test, one_hot_test_labels)"
      ],
      "execution_count": 0,
      "outputs": [
        {
          "output_type": "stream",
          "text": [
            "2246/2246 [==============================] - 0s 91us/step\n"
          ],
          "name": "stdout"
        }
      ]
    },
    {
      "cell_type": "code",
      "metadata": {
        "id": "goN9io3lbAdE",
        "colab_type": "code",
        "outputId": "41a4a4eb-4951-477b-9ad6-6faf8a551054",
        "colab": {
          "base_uri": "https://localhost:8080/",
          "height": 34
        }
      },
      "source": [
        "print('test_acc:', test_acc)"
      ],
      "execution_count": 0,
      "outputs": [
        {
          "output_type": "stream",
          "text": [
            "test_acc: 0.7867319583892822\n"
          ],
          "name": "stdout"
        }
      ]
    },
    {
      "cell_type": "markdown",
      "metadata": {
        "id": "Pw3GlSYG3oiH",
        "colab_type": "text"
      },
      "source": [
        "## On the importance of having sufficiently large intermediate layers\n",
        "\n",
        "\n",
        "We mentioned earlier that since our final outputs were 46-dimensional, we should avoid intermediate layers with much less than 46 hidden \n",
        "units. Now let's try to see what happens when we introduce an information bottleneck by having intermediate layers significantly less than \n",
        "46-dimensional, e.g. 4-dimensional."
      ]
    },
    {
      "cell_type": "code",
      "metadata": {
        "id": "emfKokRe3oiH",
        "colab_type": "code",
        "outputId": "f05641cb-890c-4839-f5c0-895635d05616",
        "colab": {
          "base_uri": "https://localhost:8080/",
          "height": 334
        }
      },
      "source": [
        "# TODO: build a neural network with 4 neuron units in the hidden layer with the validation data \n",
        "# and evaluate its performance on the test data.\n",
        "\n",
        "\n",
        "model4 = models.Sequential()\n",
        "model4.add(layers.Dense(4, activation='relu', input_shape=(10000,)))\n",
        "model4.add(layers.Dense(4, activation='relu'))\n",
        "model4.add(layers.Dense(46, activation='softmax'))\n",
        "\n",
        "model4.compile(\n",
        "    optimizer = 'rmsprop',\n",
        "    loss='categorical_crossentropy',\n",
        "    metrics=['accuracy']\n",
        ")\n",
        "\n",
        "model4.fit(\n",
        "    partial_x_train, \n",
        "    partial_y_train, \n",
        "    epochs=8, \n",
        "    batch_size=512, \n",
        "    validation_data=(x_val, y_val)\n",
        ")"
      ],
      "execution_count": 0,
      "outputs": [
        {
          "output_type": "stream",
          "text": [
            "Train on 7982 samples, validate on 1000 samples\n",
            "Epoch 1/8\n",
            "7982/7982 [==============================] - 1s 99us/step - loss: 3.7308 - accuracy: 0.3048 - val_loss: 3.6357 - val_accuracy: 0.3610\n",
            "Epoch 2/8\n",
            "7982/7982 [==============================] - 1s 83us/step - loss: 3.5459 - accuracy: 0.3523 - val_loss: 3.4672 - val_accuracy: 0.3550\n",
            "Epoch 3/8\n",
            "7982/7982 [==============================] - 1s 83us/step - loss: 3.3643 - accuracy: 0.3513 - val_loss: 3.2944 - val_accuracy: 0.3550\n",
            "Epoch 4/8\n",
            "7982/7982 [==============================] - 1s 84us/step - loss: 3.1784 - accuracy: 0.3517 - val_loss: 3.1184 - val_accuracy: 0.3540\n",
            "Epoch 5/8\n",
            "7982/7982 [==============================] - 1s 85us/step - loss: 2.9943 - accuracy: 0.3517 - val_loss: 2.9447 - val_accuracy: 0.3540\n",
            "Epoch 6/8\n",
            "7982/7982 [==============================] - 1s 84us/step - loss: 2.8208 - accuracy: 0.3517 - val_loss: 2.7846 - val_accuracy: 0.3540\n",
            "Epoch 7/8\n",
            "7982/7982 [==============================] - 1s 84us/step - loss: 2.6630 - accuracy: 0.3518 - val_loss: 2.6443 - val_accuracy: 0.3540\n",
            "Epoch 8/8\n",
            "7982/7982 [==============================] - 1s 88us/step - loss: 2.5256 - accuracy: 0.3517 - val_loss: 2.5210 - val_accuracy: 0.3530\n"
          ],
          "name": "stdout"
        },
        {
          "output_type": "execute_result",
          "data": {
            "text/plain": [
              "<keras.callbacks.callbacks.History at 0x7f2c55fb6f60>"
            ]
          },
          "metadata": {
            "tags": []
          },
          "execution_count": 18
        }
      ]
    },
    {
      "cell_type": "markdown",
      "metadata": {
        "id": "M6wV_AR23oiI",
        "colab_type": "text"
      },
      "source": [
        "\n",
        "You should see the model performance drop. This drop is mostly due to the fact that we are now trying to compress a lot of information (enough information to recover the separation hyperplanes of 46 classes) into an intermediate space that is too low-dimensional. The network is able to cram _most_ of the necessary information into these 8-dimensional representations, but not all of it."
      ]
    },
    {
      "cell_type": "markdown",
      "metadata": {
        "id": "8bFLuR8b3oiI",
        "colab_type": "text"
      },
      "source": [
        "## Try using larger or smaller hidden layers: 32 units, and 128 units, and see if you will be able to improve the model performance on the test data.\n"
      ]
    },
    {
      "cell_type": "code",
      "metadata": {
        "id": "B1v7pFMGrEik",
        "colab_type": "code",
        "outputId": "068a7e60-12fa-4352-a86d-d06e518c7056",
        "colab": {
          "base_uri": "https://localhost:8080/",
          "height": 334
        }
      },
      "source": [
        "# TODO: Try using larger or smaller hidden layers: 32 units, and 128 units\n",
        "\n",
        "model32 = models.Sequential()\n",
        "model32.add(layers.Dense(32, activation='relu', input_shape=(10000,)))\n",
        "model32.add(layers.Dense(32, activation='relu'))\n",
        "model32.add(layers.Dense(46, activation='softmax'))\n",
        "\n",
        "model32.compile(\n",
        "    optimizer = 'rmsprop',\n",
        "    loss='categorical_crossentropy',\n",
        "    metrics=['accuracy']\n",
        ")\n",
        "\n",
        "model32.fit(\n",
        "    partial_x_train, \n",
        "    partial_y_train, \n",
        "    epochs=8, \n",
        "    batch_size=512, \n",
        "    validation_data=(x_val, y_val)\n",
        ")"
      ],
      "execution_count": 0,
      "outputs": [
        {
          "output_type": "stream",
          "text": [
            "Train on 7982 samples, validate on 1000 samples\n",
            "Epoch 1/8\n",
            "7982/7982 [==============================] - 1s 115us/step - loss: 3.2046 - accuracy: 0.3874 - val_loss: 2.4680 - val_accuracy: 0.5320\n",
            "Epoch 2/8\n",
            "7982/7982 [==============================] - 1s 100us/step - loss: 2.0621 - accuracy: 0.6017 - val_loss: 1.7767 - val_accuracy: 0.6290\n",
            "Epoch 3/8\n",
            "7982/7982 [==============================] - 1s 100us/step - loss: 1.5309 - accuracy: 0.6739 - val_loss: 1.4673 - val_accuracy: 0.6880\n",
            "Epoch 4/8\n",
            "7982/7982 [==============================] - 1s 98us/step - loss: 1.2353 - accuracy: 0.7349 - val_loss: 1.2982 - val_accuracy: 0.7070\n",
            "Epoch 5/8\n",
            "7982/7982 [==============================] - 1s 98us/step - loss: 1.0391 - accuracy: 0.7760 - val_loss: 1.1927 - val_accuracy: 0.7360\n",
            "Epoch 6/8\n",
            "7982/7982 [==============================] - 1s 99us/step - loss: 0.8896 - accuracy: 0.8098 - val_loss: 1.1173 - val_accuracy: 0.7630\n",
            "Epoch 7/8\n",
            "7982/7982 [==============================] - 1s 98us/step - loss: 0.7639 - accuracy: 0.8386 - val_loss: 1.0622 - val_accuracy: 0.7750\n",
            "Epoch 8/8\n",
            "7982/7982 [==============================] - 1s 100us/step - loss: 0.6600 - accuracy: 0.8622 - val_loss: 1.0210 - val_accuracy: 0.7800\n"
          ],
          "name": "stdout"
        },
        {
          "output_type": "execute_result",
          "data": {
            "text/plain": [
              "<keras.callbacks.callbacks.History at 0x7f2c56e14be0>"
            ]
          },
          "metadata": {
            "tags": []
          },
          "execution_count": 19
        }
      ]
    },
    {
      "cell_type": "code",
      "metadata": {
        "id": "3B_FZKoXvjn3",
        "colab_type": "code",
        "outputId": "208d5c1e-c2b1-489c-f447-598d754e300c",
        "colab": {
          "base_uri": "https://localhost:8080/",
          "height": 334
        }
      },
      "source": [
        "# 128 hidden units\n",
        "\n",
        "model128 = models.Sequential()\n",
        "model128.add(layers.Dense(128, activation='relu', input_shape=(10000,)))\n",
        "model128.add(layers.Dense(128, activation='relu'))\n",
        "model128.add(layers.Dense(46, activation='softmax'))\n",
        "\n",
        "model128.compile(\n",
        "    optimizer = 'rmsprop',\n",
        "    loss='categorical_crossentropy',\n",
        "    metrics=['accuracy']\n",
        ")\n",
        "\n",
        "model128.fit(\n",
        "    partial_x_train, \n",
        "    partial_y_train, \n",
        "    epochs=8, \n",
        "    batch_size=512, \n",
        "    validation_data=(x_val, y_val)\n",
        ")"
      ],
      "execution_count": 0,
      "outputs": [
        {
          "output_type": "stream",
          "text": [
            "Train on 7982 samples, validate on 1000 samples\n",
            "Epoch 1/8\n",
            "7982/7982 [==============================] - 2s 195us/step - loss: 2.2134 - accuracy: 0.5575 - val_loss: 1.3718 - val_accuracy: 0.7030\n",
            "Epoch 2/8\n",
            "7982/7982 [==============================] - 1s 179us/step - loss: 1.1245 - accuracy: 0.7558 - val_loss: 1.1425 - val_accuracy: 0.7540\n",
            "Epoch 3/8\n",
            "7982/7982 [==============================] - 1s 177us/step - loss: 0.7919 - accuracy: 0.8335 - val_loss: 0.9871 - val_accuracy: 0.7910\n",
            "Epoch 4/8\n",
            "7982/7982 [==============================] - 1s 178us/step - loss: 0.5883 - accuracy: 0.8752 - val_loss: 0.9754 - val_accuracy: 0.7860\n",
            "Epoch 5/8\n",
            "7982/7982 [==============================] - 1s 176us/step - loss: 0.4207 - accuracy: 0.9121 - val_loss: 0.9350 - val_accuracy: 0.8030\n",
            "Epoch 6/8\n",
            "7982/7982 [==============================] - 1s 179us/step - loss: 0.3309 - accuracy: 0.9292 - val_loss: 0.8575 - val_accuracy: 0.8210\n",
            "Epoch 7/8\n",
            "7982/7982 [==============================] - 1s 178us/step - loss: 0.2581 - accuracy: 0.9420 - val_loss: 1.0219 - val_accuracy: 0.7830\n",
            "Epoch 8/8\n",
            "7982/7982 [==============================] - 1s 177us/step - loss: 0.2179 - accuracy: 0.9453 - val_loss: 0.9346 - val_accuracy: 0.8070\n"
          ],
          "name": "stdout"
        },
        {
          "output_type": "execute_result",
          "data": {
            "text/plain": [
              "<keras.callbacks.callbacks.History at 0x7f2c56a3aac8>"
            ]
          },
          "metadata": {
            "tags": []
          },
          "execution_count": 20
        }
      ]
    },
    {
      "cell_type": "markdown",
      "metadata": {
        "id": "qJ1JPiTErD7X",
        "colab_type": "text"
      },
      "source": [
        "\n",
        "## We were using two hidden layers. Now try to use a single hidden layer, or three hidden layers, and see if you will be able to improve the model performance on the test data.\n",
        "\n"
      ]
    },
    {
      "cell_type": "code",
      "metadata": {
        "id": "6zukIClyrh3k",
        "colab_type": "code",
        "outputId": "a21048a8-e0bf-48d8-dc4e-39a97504e640",
        "colab": {
          "base_uri": "https://localhost:8080/",
          "height": 334
        }
      },
      "source": [
        "# TODO: Try to use a single hidden layer, or three hidden layers\n",
        "# Single hidden layer\n",
        "\n",
        "model_single = models.Sequential()\n",
        "model_single.add(layers.Dense(64, activation='relu', input_shape=(10000,)))\n",
        "model_single.add(layers.Dense(46, activation='softmax'))\n",
        "\n",
        "model_single.compile(\n",
        "    optimizer = 'rmsprop',\n",
        "    loss='categorical_crossentropy',\n",
        "    metrics=['accuracy']\n",
        ")\n",
        "\n",
        "model_single.fit(\n",
        "    partial_x_train, \n",
        "    partial_y_train, \n",
        "    epochs=8, \n",
        "    batch_size=512, \n",
        "    validation_data=(x_val, y_val)\n",
        ")"
      ],
      "execution_count": 0,
      "outputs": [
        {
          "output_type": "stream",
          "text": [
            "Train on 7982 samples, validate on 1000 samples\n",
            "Epoch 1/8\n",
            "7982/7982 [==============================] - 1s 140us/step - loss: 2.5969 - accuracy: 0.5411 - val_loss: 1.8349 - val_accuracy: 0.6450\n",
            "Epoch 2/8\n",
            "7982/7982 [==============================] - 1s 122us/step - loss: 1.4881 - accuracy: 0.7175 - val_loss: 1.3533 - val_accuracy: 0.7180\n",
            "Epoch 3/8\n",
            "7982/7982 [==============================] - 1s 123us/step - loss: 1.0756 - accuracy: 0.7899 - val_loss: 1.1358 - val_accuracy: 0.7660\n",
            "Epoch 4/8\n",
            "7982/7982 [==============================] - 1s 123us/step - loss: 0.8318 - accuracy: 0.8361 - val_loss: 1.0038 - val_accuracy: 0.7950\n",
            "Epoch 5/8\n",
            "7982/7982 [==============================] - 1s 123us/step - loss: 0.6652 - accuracy: 0.8693 - val_loss: 0.9306 - val_accuracy: 0.8050\n",
            "Epoch 6/8\n",
            "7982/7982 [==============================] - 1s 124us/step - loss: 0.5394 - accuracy: 0.8943 - val_loss: 0.8815 - val_accuracy: 0.8140\n",
            "Epoch 7/8\n",
            "7982/7982 [==============================] - 1s 123us/step - loss: 0.4459 - accuracy: 0.9121 - val_loss: 0.8522 - val_accuracy: 0.8190\n",
            "Epoch 8/8\n",
            "7982/7982 [==============================] - 1s 124us/step - loss: 0.3704 - accuracy: 0.9266 - val_loss: 0.8327 - val_accuracy: 0.8200\n"
          ],
          "name": "stdout"
        },
        {
          "output_type": "execute_result",
          "data": {
            "text/plain": [
              "<keras.callbacks.callbacks.History at 0x7f2c56ed5828>"
            ]
          },
          "metadata": {
            "tags": []
          },
          "execution_count": 21
        }
      ]
    },
    {
      "cell_type": "code",
      "metadata": {
        "id": "IlljRbjfBiDw",
        "colab_type": "code",
        "outputId": "837f7c7e-fc97-481e-b664-20047cb7b016",
        "colab": {
          "base_uri": "https://localhost:8080/",
          "height": 334
        }
      },
      "source": [
        "# tripple hidden layer\n",
        "\n",
        "model_triple = models.Sequential()\n",
        "model_triple.add(layers.Dense(64, activation='relu', input_shape=(10000,)))\n",
        "model_triple.add(layers.Dense(64, activation='relu'))\n",
        "model_triple.add(layers.Dense(64, activation='relu'))\n",
        "model_triple.add(layers.Dense(46, activation='softmax'))\n",
        "\n",
        "model_triple.compile(\n",
        "    optimizer = 'rmsprop',\n",
        "    loss='categorical_crossentropy',\n",
        "    metrics=['accuracy']\n",
        ") \n",
        "\n",
        "model_triple.fit(\n",
        "    partial_x_train, \n",
        "    partial_y_train, \n",
        "    epochs=8, \n",
        "    batch_size=512, \n",
        "    validation_data=(x_val, y_val)\n",
        ")"
      ],
      "execution_count": 0,
      "outputs": [
        {
          "output_type": "stream",
          "text": [
            "Train on 7982 samples, validate on 1000 samples\n",
            "Epoch 1/8\n",
            "7982/7982 [==============================] - 1s 146us/step - loss: 2.6785 - accuracy: 0.4956 - val_loss: 1.7703 - val_accuracy: 0.6220\n",
            "Epoch 2/8\n",
            "7982/7982 [==============================] - 1s 127us/step - loss: 1.4777 - accuracy: 0.6909 - val_loss: 1.3524 - val_accuracy: 0.6980\n",
            "Epoch 3/8\n",
            "7982/7982 [==============================] - 1s 128us/step - loss: 1.1179 - accuracy: 0.7477 - val_loss: 1.1775 - val_accuracy: 0.7470\n",
            "Epoch 4/8\n",
            "7982/7982 [==============================] - 1s 125us/step - loss: 0.8752 - accuracy: 0.8101 - val_loss: 1.0685 - val_accuracy: 0.7640\n",
            "Epoch 5/8\n",
            "7982/7982 [==============================] - 1s 126us/step - loss: 0.6930 - accuracy: 0.8542 - val_loss: 1.0188 - val_accuracy: 0.7860\n",
            "Epoch 6/8\n",
            "7982/7982 [==============================] - 1s 126us/step - loss: 0.5461 - accuracy: 0.8857 - val_loss: 0.9636 - val_accuracy: 0.8000\n",
            "Epoch 7/8\n",
            "7982/7982 [==============================] - 1s 124us/step - loss: 0.4280 - accuracy: 0.9080 - val_loss: 0.9824 - val_accuracy: 0.7970\n",
            "Epoch 8/8\n",
            "7982/7982 [==============================] - 1s 129us/step - loss: 0.3511 - accuracy: 0.9247 - val_loss: 1.0097 - val_accuracy: 0.7890\n"
          ],
          "name": "stdout"
        },
        {
          "output_type": "execute_result",
          "data": {
            "text/plain": [
              "<keras.callbacks.callbacks.History at 0x7f2c571babe0>"
            ]
          },
          "metadata": {
            "tags": []
          },
          "execution_count": 22
        }
      ]
    },
    {
      "cell_type": "markdown",
      "metadata": {
        "id": "gldwCoKB3oiI",
        "colab_type": "text"
      },
      "source": [
        "## Wrapping up\n",
        "\n",
        "\n",
        "Here's what you should take away from this example:\n",
        "\n",
        "* If you are trying to classify data points between N classes, your network should end with a `Dense` layer of size N.\n",
        "* In a single-label, multi-class classification problem, your network should end with a `softmax` activation, so that it will output a \n",
        "probability distribution over the N output classes.\n",
        "* _Categorical crossentropy_ is almost always the loss function you should use for such problems. It minimizes the distance between the \n",
        "probability distributions output by the network, and the true distribution of the targets.\n",
        "* There are two ways to handle labels in multi-class classification:\n",
        "    ** Encoding the labels via \"categorical encoding\" (also known as \"one-hot encoding\") and using `categorical_crossentropy` as your loss \n",
        "function.\n",
        "    ** Encoding the labels as integers and using the `sparse_categorical_crossentropy` loss function.\n",
        "* If you need to classify data into a large number of categories, then you should avoid creating information bottlenecks in your network by having \n",
        "intermediate layers that are too small."
      ]
    },
    {
      "cell_type": "markdown",
      "metadata": {
        "id": "aKekl-HuGXiU",
        "colab_type": "text"
      },
      "source": [
        "## Bonus Point\n",
        "Can you think of other methods to further improve the model performance? Code it up and evaluate them."
      ]
    },
    {
      "cell_type": "code",
      "metadata": {
        "id": "38I30otcrO-r",
        "colab_type": "code",
        "outputId": "2314333e-3248-42c5-88ed-450dd0bcc83e",
        "colab": {
          "base_uri": "https://localhost:8080/",
          "height": 334
        }
      },
      "source": [
        "# TODO\n",
        "\n",
        "# without a bigger dataset, we can only make changes to the parameters.\n",
        "# trying a model with 4 layers and 256 hidden units\n",
        "# also using adam as the optimizer\n",
        "\n",
        "model_x = models.Sequential()\n",
        "model_x.add(layers.Dense(256, activation='relu', input_shape=(10000,)))\n",
        "model_x.add(layers.Dense(256, activation='relu'))\n",
        "model_x.add(layers.Dense(256, activation='relu'))\n",
        "model_x.add(layers.Dense(256, activation='relu'))\n",
        "model_x.add(layers.Dense(46, activation='softmax'))\n",
        "\n",
        "model_x.compile(\n",
        "    optimizer = 'adam',\n",
        "    loss='categorical_crossentropy',\n",
        "    metrics=['accuracy']\n",
        ")\n",
        "\n",
        "model_x.fit(\n",
        "    partial_x_train, \n",
        "    partial_y_train, \n",
        "    epochs=8, \n",
        "    batch_size=512, \n",
        "    validation_data=(x_val, y_val)\n",
        ")"
      ],
      "execution_count": 0,
      "outputs": [
        {
          "output_type": "stream",
          "text": [
            "Train on 7982 samples, validate on 1000 samples\n",
            "Epoch 1/8\n",
            "7982/7982 [==============================] - 3s 347us/step - loss: 2.8072 - accuracy: 0.4176 - val_loss: 1.7503 - val_accuracy: 0.5920\n",
            "Epoch 2/8\n",
            "7982/7982 [==============================] - 3s 323us/step - loss: 1.4866 - accuracy: 0.6625 - val_loss: 1.3275 - val_accuracy: 0.7000\n",
            "Epoch 3/8\n",
            "7982/7982 [==============================] - 3s 317us/step - loss: 1.0478 - accuracy: 0.7479 - val_loss: 1.1224 - val_accuracy: 0.7510\n",
            "Epoch 4/8\n",
            "7982/7982 [==============================] - 3s 318us/step - loss: 0.7183 - accuracy: 0.8276 - val_loss: 1.0536 - val_accuracy: 0.7720\n",
            "Epoch 5/8\n",
            "7982/7982 [==============================] - 3s 317us/step - loss: 0.4753 - accuracy: 0.8795 - val_loss: 1.1166 - val_accuracy: 0.7870\n",
            "Epoch 6/8\n",
            "7982/7982 [==============================] - 3s 319us/step - loss: 0.3131 - accuracy: 0.9275 - val_loss: 1.1480 - val_accuracy: 0.7950\n",
            "Epoch 7/8\n",
            "7982/7982 [==============================] - 3s 317us/step - loss: 0.2163 - accuracy: 0.9495 - val_loss: 1.2669 - val_accuracy: 0.7770\n",
            "Epoch 8/8\n",
            "7982/7982 [==============================] - 3s 320us/step - loss: 0.1779 - accuracy: 0.9570 - val_loss: 1.1181 - val_accuracy: 0.8040\n"
          ],
          "name": "stdout"
        },
        {
          "output_type": "execute_result",
          "data": {
            "text/plain": [
              "<keras.callbacks.callbacks.History at 0x7f2c56153b00>"
            ]
          },
          "metadata": {
            "tags": []
          },
          "execution_count": 23
        }
      ]
    },
    {
      "cell_type": "markdown",
      "metadata": {
        "id": "l7CGM-0QrOrp",
        "colab_type": "text"
      },
      "source": [
        "# End of HW1"
      ]
    }
  ]
}