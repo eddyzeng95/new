{
  "nbformat": 4,
  "nbformat_minor": 0,
  "metadata": {
    "colab": {
      "name": "MSIS549_HW2_CNN_RockPaperScissors.ipynb",
      "provenance": [],
      "collapsed_sections": []
    },
    "kernelspec": {
      "name": "python3",
      "display_name": "Python 3"
    },
    "accelerator": "GPU"
  },
  "cells": [
    {
      "cell_type": "markdown",
      "metadata": {
        "id": "IVxez4Gbwh--",
        "colab_type": "text"
      },
      "source": [
        "# MSIS 579 HW2 CNN to recognize Rock/Paper/Scissors\n",
        "\n",
        "In this homework, we will train a convolution neural network to recognize gesture Rock/Paper/Scissors. "
      ]
    },
    {
      "cell_type": "markdown",
      "metadata": {
        "id": "PovEuTtBxGak",
        "colab_type": "text"
      },
      "source": [
        "## Load Rock/Paper/Scissors Dataset\n",
        "First we download the data and put them into its own directories for model training and evaluation. There are two dataset in zip format. Download each and put them into the corresponding directories."
      ]
    },
    {
      "cell_type": "code",
      "metadata": {
        "id": "it1c0jCiNCIM",
        "colab_type": "code",
        "outputId": "03cac4cc-a291-4bd3-deea-e4ab8c195431",
        "colab": {
          "base_uri": "https://localhost:8080/",
          "height": 386
        }
      },
      "source": [
        "!wget --no-check-certificate \\\n",
        "    https://storage.googleapis.com/laurencemoroney-blog.appspot.com/rps.zip \\\n",
        "    -O /tmp/rps.zip\n",
        "  \n",
        "!wget --no-check-certificate \\\n",
        "    https://storage.googleapis.com/laurencemoroney-blog.appspot.com/rps-test-set.zip \\\n",
        "    -O /tmp/rps-test-set.zip"
      ],
      "execution_count": 0,
      "outputs": [
        {
          "output_type": "stream",
          "text": [
            "--2020-04-24 04:41:52--  https://storage.googleapis.com/laurencemoroney-blog.appspot.com/rps.zip\n",
            "Resolving storage.googleapis.com (storage.googleapis.com)... 74.125.204.128, 2404:6800:4008:c04::80\n",
            "Connecting to storage.googleapis.com (storage.googleapis.com)|74.125.204.128|:443... connected.\n",
            "HTTP request sent, awaiting response... 200 OK\n",
            "Length: 200682221 (191M) [application/zip]\n",
            "Saving to: ‘/tmp/rps.zip’\n",
            "\n",
            "/tmp/rps.zip        100%[===================>] 191.38M  64.9MB/s    in 2.9s    \n",
            "\n",
            "2020-04-24 04:41:55 (64.9 MB/s) - ‘/tmp/rps.zip’ saved [200682221/200682221]\n",
            "\n",
            "--2020-04-24 04:41:56--  https://storage.googleapis.com/laurencemoroney-blog.appspot.com/rps-test-set.zip\n",
            "Resolving storage.googleapis.com (storage.googleapis.com)... 74.125.204.128, 2404:6800:4008:c00::80\n",
            "Connecting to storage.googleapis.com (storage.googleapis.com)|74.125.204.128|:443... connected.\n",
            "HTTP request sent, awaiting response... 200 OK\n",
            "Length: 29516758 (28M) [application/zip]\n",
            "Saving to: ‘/tmp/rps-test-set.zip’\n",
            "\n",
            "/tmp/rps-test-set.z 100%[===================>]  28.15M  50.9MB/s    in 0.6s    \n",
            "\n",
            "2020-04-24 04:41:57 (50.9 MB/s) - ‘/tmp/rps-test-set.zip’ saved [29516758/29516758]\n",
            "\n"
          ],
          "name": "stdout"
        }
      ]
    },
    {
      "cell_type": "code",
      "metadata": {
        "id": "PnYP_HhYNVUK",
        "colab_type": "code",
        "outputId": "fc0b4996-fad4-4b9e-c66a-4a800a41080d",
        "colab": {
          "base_uri": "https://localhost:8080/",
          "height": 101
        }
      },
      "source": [
        "%tensorflow_version 1.14\n",
        "%matplotlib inline\n",
        "import warnings\n",
        "warnings.filterwarnings('ignore')\n",
        "\n",
        "import tensorflow as tf\n",
        "tf.logging.set_verbosity(tf.logging.ERROR)\n",
        "\n",
        "import os\n",
        "import zipfile\n",
        "\n",
        "local_zip = '/tmp/rps.zip'\n",
        "zip_ref = zipfile.ZipFile(local_zip, 'r')\n",
        "zip_ref.extractall('/tmp/')\n",
        "zip_ref.close()\n",
        "\n",
        "local_zip = '/tmp/rps-test-set.zip'\n",
        "zip_ref = zipfile.ZipFile(local_zip, 'r')\n",
        "zip_ref.extractall('/tmp/')\n",
        "zip_ref.close()"
      ],
      "execution_count": 0,
      "outputs": [
        {
          "output_type": "stream",
          "text": [
            "`%tensorflow_version` only switches the major version: 1.x or 2.x.\n",
            "You set: `1.14`. This will be interpreted as: `1.x`.\n",
            "\n",
            "\n",
            "TensorFlow 1.x selected.\n"
          ],
          "name": "stdout"
        }
      ]
    },
    {
      "cell_type": "markdown",
      "metadata": {
        "id": "BJ5KIylxxoaL",
        "colab_type": "text"
      },
      "source": [
        "After running the folloiwng code, you will have exactly 840 images for each gesture. "
      ]
    },
    {
      "cell_type": "code",
      "metadata": {
        "id": "MrxdR83ANgjS",
        "colab_type": "code",
        "outputId": "bc70acd1-c65b-43cd-c9a7-8d574a34b509",
        "colab": {
          "base_uri": "https://localhost:8080/",
          "height": 138
        }
      },
      "source": [
        "rock_dir = os.path.join('/tmp/rps/rock')\n",
        "paper_dir = os.path.join('/tmp/rps/paper')\n",
        "scissors_dir = os.path.join('/tmp/rps/scissors')\n",
        "\n",
        "print('total training rock images:', len(os.listdir(rock_dir)))\n",
        "print('total training paper images:', len(os.listdir(paper_dir)))\n",
        "print('total training scissors images:', len(os.listdir(scissors_dir)))\n",
        "\n",
        "rock_files = os.listdir(rock_dir)\n",
        "print(rock_files[:10])\n",
        "\n",
        "paper_files = os.listdir(paper_dir)\n",
        "print(paper_files[:10])\n",
        "\n",
        "scissors_files = os.listdir(scissors_dir)\n",
        "print(scissors_files[:10])\n"
      ],
      "execution_count": 0,
      "outputs": [
        {
          "output_type": "stream",
          "text": [
            "total training rock images: 840\n",
            "total training paper images: 840\n",
            "total training scissors images: 840\n",
            "['rock06ck02-118.png', 'rock04-111.png', 'rock05ck01-028.png', 'rock07-k03-114.png', 'rock02-052.png', 'rock02-056.png', 'rock06ck02-066.png', 'rock03-116.png', 'rock03-037.png', 'rock06ck02-064.png']\n",
            "['paper01-061.png', 'paper01-005.png', 'paper05-108.png', 'paper02-005.png', 'paper07-033.png', 'paper04-118.png', 'paper03-105.png', 'paper06-014.png', 'paper07-096.png', 'paper06-018.png']\n",
            "['testscissors03-027.png', 'testscissors03-049.png', 'scissors01-115.png', 'scissors04-039.png', 'testscissors03-026.png', 'testscissors03-090.png', 'scissors02-053.png', 'scissors03-055.png', 'testscissors03-038.png', 'testscissors03-033.png']\n"
          ],
          "name": "stdout"
        }
      ]
    },
    {
      "cell_type": "markdown",
      "metadata": {
        "id": "2TsXh9cKxy2S",
        "colab_type": "text"
      },
      "source": [
        "Now, let's plot 2 images from each class.  You wil find those images are taken from different views and images vary a lot even for the same gesture. "
      ]
    },
    {
      "cell_type": "code",
      "metadata": {
        "id": "jp9dLel9N9DS",
        "colab_type": "code",
        "colab": {}
      },
      "source": [
        "%matplotlib inline\n",
        "\n",
        "import matplotlib.pyplot as plt\n",
        "import matplotlib.image as mpimg\n",
        "\n",
        "pic_index = 2\n",
        "\n",
        "next_rock = [os.path.join(rock_dir, fname) for fname in rock_files[pic_index-2:pic_index]]\n",
        "next_paper = [os.path.join(paper_dir, fname) for fname in paper_files[pic_index-2:pic_index]]\n",
        "next_scissors = [os.path.join(scissors_dir, fname) for fname in scissors_files[pic_index-2:pic_index]]\n",
        "\n",
        "for i, img_path in enumerate(next_rock+next_paper+next_scissors):\n",
        "  print(img_path)\n",
        "  img = mpimg.imread(img_path)\n",
        "  plt.imshow(img)\n",
        "  plt.axis('Off')\n",
        "  plt.show()"
      ],
      "execution_count": 0,
      "outputs": []
    },
    {
      "cell_type": "markdown",
      "metadata": {
        "colab_type": "text",
        "id": "ZsDGp_EIX4zN"
      },
      "source": [
        "## TASK 0: Prepare all the images\n",
        "Reformat the name of the images, copy and move them to corresponding directories"
      ]
    },
    {
      "cell_type": "code",
      "metadata": {
        "id": "_VqoNj_JeXj2",
        "colab_type": "code",
        "outputId": "96478553-25e6-4573-c04e-b972a4908517",
        "colab": {
          "base_uri": "https://localhost:8080/",
          "height": 34
        }
      },
      "source": [
        "import shutil\n",
        "import os\n",
        "import re\n",
        "import os\n",
        "os.getcwd()\n"
      ],
      "execution_count": 0,
      "outputs": [
        {
          "output_type": "execute_result",
          "data": {
            "text/plain": [
              "'/content'"
            ]
          },
          "metadata": {
            "tags": []
          },
          "execution_count": 5
        }
      ]
    },
    {
      "cell_type": "code",
      "metadata": {
        "id": "PN52VB98ItkE",
        "colab_type": "code",
        "outputId": "c71c661e-90a4-438f-fa3e-94c9444d4ca5",
        "colab": {
          "base_uri": "https://localhost:8080/",
          "height": 34
        }
      },
      "source": [
        "os.listdir('/tmp')"
      ],
      "execution_count": 0,
      "outputs": [
        {
          "output_type": "execute_result",
          "data": {
            "text/plain": [
              "['rps-test-set', 'rps.zip', 'rps-test-set.zip', 'rps']"
            ]
          },
          "metadata": {
            "tags": []
          },
          "execution_count": 6
        }
      ]
    },
    {
      "cell_type": "code",
      "metadata": {
        "id": "4HO0maM7HJY5",
        "colab_type": "code",
        "colab": {}
      },
      "source": [
        "for i, filename in enumerate(os.listdir('/tmp/rps/rock')):\n",
        "    os.rename('/tmp/rps/rock/' + filename, '/tmp/rps/rock/' + 'rock' + str(i) + \".png\")"
      ],
      "execution_count": 0,
      "outputs": []
    },
    {
      "cell_type": "code",
      "metadata": {
        "id": "w3-iAiySIMwB",
        "colab_type": "code",
        "colab": {}
      },
      "source": [
        "for i, filename in enumerate(os.listdir('/tmp/rps/paper')):\n",
        "      os.rename('/tmp/rps/paper/' + filename, '/tmp/rps/paper/' + 'paper' + str(i) + \".png\")"
      ],
      "execution_count": 0,
      "outputs": []
    },
    {
      "cell_type": "code",
      "metadata": {
        "id": "kEAKTS7HIU0b",
        "colab_type": "code",
        "colab": {}
      },
      "source": [
        "for i, filename in enumerate(os.listdir('/tmp/rps/scissors')):\n",
        "      os.rename('/tmp/rps/scissors/' + filename, '/tmp/rps/scissors/' + 'scissors' + str(i) + \".png\")"
      ],
      "execution_count": 0,
      "outputs": []
    },
    {
      "cell_type": "code",
      "metadata": {
        "id": "sDtGaVYCKcej",
        "colab_type": "code",
        "colab": {}
      },
      "source": [
        "files = os.listdir('/tmp/rps/rock/')\n",
        "for f in files:\n",
        "    shutil.move('/tmp/rps/rock/'+f, '/tmp/'+f)\n",
        "    \n",
        "files = os.listdir('/tmp/rps/paper/')\n",
        "for f in files:\n",
        "    shutil.move('/tmp/rps/paper/'+f, '/tmp/'+f)\n",
        "\n",
        "files = os.listdir('/tmp/rps/scissors/')\n",
        "for f in files:\n",
        "    shutil.move('/tmp/rps/scissors/'+f, '/tmp/'+f)"
      ],
      "execution_count": 0,
      "outputs": []
    },
    {
      "cell_type": "code",
      "metadata": {
        "id": "Gy2vRxLyK2_i",
        "colab_type": "code",
        "colab": {}
      },
      "source": [
        "os.listdir('/tmp')"
      ],
      "execution_count": 0,
      "outputs": []
    },
    {
      "cell_type": "code",
      "metadata": {
        "id": "FsHvjZDTo1Fe",
        "colab_type": "code",
        "colab": {}
      },
      "source": [
        "# The path to the directory where the original dataset was uncompressed\n",
        "original_dataset_dir = '/tmp'\n",
        "\n",
        "# The directory where we will\n",
        "# store our smaller dataset\n",
        "base_dir = '/tmp/rps_split'\n",
        "if os.path.exists(base_dir):\n",
        "  shutil.rmtree(base_dir)\n",
        "os.mkdir(base_dir)\n",
        "\n",
        "# Directories for our training,\n",
        "# validation and test splits\n",
        "train_dir = os.path.join(base_dir, 'train')\n",
        "os.mkdir(train_dir)\n",
        "validation_dir = os.path.join(base_dir, 'validation')\n",
        "os.mkdir(validation_dir)\n",
        "\n",
        "# Directory with our training Rock pictures\n",
        "train_rock_dir = os.path.join(train_dir, 'Rock')\n",
        "os.mkdir(train_rock_dir)\n",
        "\n",
        "# Directory with our training Paper pictures\n",
        "train_paper_dir = os.path.join(train_dir, 'Paper')\n",
        "os.mkdir(train_paper_dir)\n",
        "\n",
        "# Directory with our training Scissors pictures\n",
        "train_scissors_dir = os.path.join(train_dir, 'Scissors')\n",
        "os.mkdir(train_scissors_dir)\n",
        "\n",
        "# Directory with our validation rock pictures\n",
        "validation_rock_dir = os.path.join(validation_dir, 'rock')\n",
        "os.mkdir(validation_rock_dir)\n",
        "\n",
        "# Directory with our validation paper pictures\n",
        "validation_paper_dir = os.path.join(validation_dir, 'paper')\n",
        "os.mkdir(validation_paper_dir)\n",
        "\n",
        "# Directory with our validation scissors pictures\n",
        "validation_scissors_dir = os.path.join(validation_dir, 'scissors')\n",
        "os.mkdir(validation_scissors_dir)\n"
      ],
      "execution_count": 0,
      "outputs": []
    },
    {
      "cell_type": "code",
      "metadata": {
        "id": "PzblwUpiPDiE",
        "colab_type": "code",
        "colab": {}
      },
      "source": [
        "# Copy first 500 Rock images to train_rock_dir\n",
        "fnames = ['rock{}.png'.format(i) for i in range(500)]\n",
        "for fname in fnames:\n",
        "    src = os.path.join(original_dataset_dir, fname)\n",
        "    dst = os.path.join(train_rock_dir, fname)\n",
        "    shutil.copyfile(src, dst)\n",
        "    \n",
        "# Copy first 500 Paper images to train_paper_dir\n",
        "fnames = ['paper{}.png'.format(i) for i in range(500)]\n",
        "for fname in fnames:\n",
        "    src = os.path.join(original_dataset_dir, fname)\n",
        "    dst = os.path.join(train_paper_dir, fname)\n",
        "    shutil.copyfile(src, dst)\n",
        "\n",
        "# Copy first 500 Scissors images to train_scissors_dir\n",
        "fnames = ['scissors{}.png'.format(i) for i in range(500)]\n",
        "for fname in fnames:\n",
        "    src = os.path.join(original_dataset_dir, fname)\n",
        "    dst = os.path.join(train_scissors_dir, fname)\n",
        "    shutil.copyfile(src, dst)\n",
        "\n",
        "# Copy next 340 rock images to validation_rock_dir\n",
        "fnames = ['rock{}.png'.format(i) for i in range(500, 840)]\n",
        "for fname in fnames:\n",
        "    src = os.path.join(original_dataset_dir, fname)\n",
        "    dst = os.path.join(validation_rock_dir, fname)\n",
        "    shutil.copyfile(src, dst)\n",
        "\n",
        "# Copy next 340 paper images to validation_paper_dir\n",
        "fnames = ['paper{}.png'.format(i) for i in range(500, 840)]\n",
        "for fname in fnames:\n",
        "    src = os.path.join(original_dataset_dir, fname)\n",
        "    dst = os.path.join(validation_paper_dir, fname)\n",
        "    shutil.copyfile(src, dst)\n",
        "\n",
        "# Copy next 340 scissors images to validation_scissors_dir\n",
        "fnames = ['rock{}.png'.format(i) for i in range(500, 840)]\n",
        "for fname in fnames:\n",
        "    src = os.path.join(original_dataset_dir, fname)\n",
        "    dst = os.path.join(validation_scissors_dir, fname)\n",
        "    shutil.copyfile(src, dst)"
      ],
      "execution_count": 0,
      "outputs": []
    },
    {
      "cell_type": "code",
      "metadata": {
        "id": "35pFtwMWQUQ9",
        "colab_type": "code",
        "colab": {}
      },
      "source": [
        "sorted(os.listdir('/tmp'))"
      ],
      "execution_count": 0,
      "outputs": []
    },
    {
      "cell_type": "code",
      "metadata": {
        "id": "BaC1AuNdM5zu",
        "colab_type": "code",
        "outputId": "64d9add8-7862-4953-89d6-255c73a3fc34",
        "colab": {
          "base_uri": "https://localhost:8080/",
          "height": 67
        }
      },
      "source": [
        "print('total training rock images:', len(os.listdir(train_rock_dir)))\n",
        "print('total training paper images:', len(os.listdir(train_paper_dir)))\n",
        "print('total training scissors images:', len(os.listdir(train_scissors_dir)))"
      ],
      "execution_count": 0,
      "outputs": [
        {
          "output_type": "stream",
          "text": [
            "total training rock images: 500\n",
            "total training paper images: 500\n",
            "total training scissors images: 500\n"
          ],
          "name": "stdout"
        }
      ]
    },
    {
      "cell_type": "code",
      "metadata": {
        "id": "CBW5pJ7wObDK",
        "colab_type": "code",
        "outputId": "9a560789-3482-4b58-8a68-8756a73ab474",
        "colab": {
          "base_uri": "https://localhost:8080/",
          "height": 67
        }
      },
      "source": [
        "print('total validation rock images:', len(os.listdir(validation_rock_dir)))\n",
        "print('total validation paper images:', len(os.listdir(validation_paper_dir)))\n",
        "print('total validation scissors images:', len(os.listdir(validation_scissors_dir)))"
      ],
      "execution_count": 0,
      "outputs": [
        {
          "output_type": "stream",
          "text": [
            "total validation rock images: 340\n",
            "total validation paper images: 340\n",
            "total validation scissors images: 340\n"
          ],
          "name": "stdout"
        }
      ]
    },
    {
      "cell_type": "code",
      "metadata": {
        "id": "FGtdGjK4Rw30",
        "colab_type": "code",
        "colab": {}
      },
      "source": [
        "# Now we do the test data preprocess\n",
        "for i, filename in enumerate(os.listdir('/tmp/rps-test-set/rock')):\n",
        "    os.rename('/tmp/rps-test-set/rock/' + filename, '/tmp/rps-test-set/rock/' + 'testrock' + str(i) + \".png\")\n",
        "\n",
        "for i, filename in enumerate(os.listdir('/tmp/rps-test-set/paper')):\n",
        "    os.rename('/tmp/rps-test-set/paper/' + filename, '/tmp/rps-test-set/paper/' + 'testpaper' + str(i) + \".png\")\n",
        "\n",
        "for i, filename in enumerate(os.listdir('/tmp/rps-test-set/scissors')):\n",
        "    os.rename('/tmp/rps-test-set/scissors/' + filename, '/tmp/rps-test-set/scissors/' + 'testscissors' + str(i) + \".png\")\n"
      ],
      "execution_count": 0,
      "outputs": []
    },
    {
      "cell_type": "code",
      "metadata": {
        "id": "TKRbcdJAS5xw",
        "colab_type": "code",
        "colab": {}
      },
      "source": [
        "files = os.listdir('/tmp/rps-test-set/rock/')\n",
        "for f in files:\n",
        "    shutil.move('/tmp/rps-test-set/rock/'+f, '/tmp/'+f)\n",
        "    \n",
        "files = os.listdir('/tmp/rps-test-set/paper/')\n",
        "for f in files:\n",
        "    shutil.move('/tmp/rps-test-set/paper/'+f, '/tmp/'+f)\n",
        "\n",
        "files = os.listdir('/tmp/rps-test-set/scissors/')\n",
        "for f in files:\n",
        "    shutil.move('/tmp/rps-test-set/scissors/'+f, '/tmp/'+f)"
      ],
      "execution_count": 0,
      "outputs": []
    },
    {
      "cell_type": "code",
      "metadata": {
        "id": "XcuH1nIDTd0d",
        "colab_type": "code",
        "colab": {}
      },
      "source": [
        "test_dir = os.path.join(base_dir, 'test')\n",
        "os.mkdir(test_dir)\n",
        "\n",
        "# Directory with our test rock pictures\n",
        "test_rock_dir = os.path.join(test_dir, 'rock')\n",
        "os.mkdir(test_rock_dir)\n",
        "\n",
        "# Directory with our test paper pictures\n",
        "test_paper_dir = os.path.join(test_dir, 'paper')\n",
        "os.mkdir(test_paper_dir)\n",
        "\n",
        "# Directory with our test scissors pictures\n",
        "test_scissors_dir = os.path.join(test_dir, 'scissors')\n",
        "os.mkdir(test_scissors_dir)"
      ],
      "execution_count": 0,
      "outputs": []
    },
    {
      "cell_type": "code",
      "metadata": {
        "id": "uhz1lzCYUJGt",
        "colab_type": "code",
        "colab": {}
      },
      "source": [
        "# Copy 124 rock images to test_rock_dir\n",
        "fnames = ['testrock{}.png'.format(i) for i in range(124)]\n",
        "for fname in fnames:\n",
        "    src = os.path.join(original_dataset_dir, fname)\n",
        "    dst = os.path.join(test_rock_dir, fname)\n",
        "    shutil.copyfile(src, dst)\n",
        "\n",
        "# Copy 124 paper images to test_paper_dir\n",
        "fnames = ['testpaper{}.png'.format(i) for i in range(124)]\n",
        "for fname in fnames:\n",
        "    src = os.path.join(original_dataset_dir, fname)\n",
        "    dst = os.path.join(test_paper_dir, fname)\n",
        "    shutil.copyfile(src, dst)\n",
        "\n",
        "# Copy 124 scissors images to test_scissors_dir\n",
        "fnames = ['testscissors{}.png'.format(i) for i in range(124)]\n",
        "for fname in fnames:\n",
        "    src = os.path.join(original_dataset_dir, fname)\n",
        "    dst = os.path.join(test_scissors_dir, fname)\n",
        "    shutil.copyfile(src, dst)"
      ],
      "execution_count": 0,
      "outputs": []
    },
    {
      "cell_type": "code",
      "metadata": {
        "id": "EsN2lU59UlQ2",
        "colab_type": "code",
        "outputId": "b0c99c93-f31d-4cde-c2df-c1a1b2630179",
        "colab": {
          "base_uri": "https://localhost:8080/",
          "height": 67
        }
      },
      "source": [
        "print('total test paper images:', len(os.listdir(test_rock_dir)))\n",
        "print('total test paper images:', len(os.listdir(test_paper_dir)))\n",
        "print('total test scissors images:', len(os.listdir(test_scissors_dir)))"
      ],
      "execution_count": 0,
      "outputs": [
        {
          "output_type": "stream",
          "text": [
            "total test paper images: 124\n",
            "total test paper images: 124\n",
            "total test scissors images: 124\n"
          ],
          "name": "stdout"
        }
      ]
    },
    {
      "cell_type": "code",
      "metadata": {
        "id": "LWTisYLQM1aM",
        "colab_type": "code",
        "outputId": "c59b18de-818f-4299-ef8a-ae795dd45c18",
        "colab": {
          "base_uri": "https://localhost:8080/",
          "height": 50
        }
      },
      "source": [
        "# TODO\n",
        "\n",
        "from keras.preprocessing.image import ImageDataGenerator\n",
        "\n",
        "classes = ['rock', 'paper', 'scissors']\n",
        "\n",
        "train_datagen = ImageDataGenerator(\n",
        "    rescale=1./255,\n",
        "    rotation_range=40,\n",
        "    width_shift_range=0.2,\n",
        "    height_shift_range=0.2,\n",
        "    shear_range=0.2,\n",
        "    zoom_range=0.2,\n",
        "    horizontal_flip=True\n",
        "    )\n",
        "\n",
        "valid_datagen = ImageDataGenerator(rescale=1./255)\n",
        "\n",
        "train_generator = train_datagen.flow_from_directory(\n",
        "        train_dir,\n",
        "        target_size=(150, 150),\n",
        "        batch_size=20,\n",
        "        class_mode='categorical')\n",
        "\n",
        "validation_generator = valid_datagen.flow_from_directory(\n",
        "        validation_dir,\n",
        "        target_size=(150, 150),\n",
        "        batch_size=20,\n",
        "        class_mode='categorical')\n",
        "\n",
        "test_generator = test_datagen.flow_from_directory(\n",
        "        test_dir,\n",
        "        target_size=(150, 150),\n",
        "        batch_size=20,\n",
        "        lass_mode='categorical'\n",
        ")"
      ],
      "execution_count": 0,
      "outputs": [
        {
          "output_type": "stream",
          "text": [
            "Found 1500 images belonging to 3 classes.\n",
            "Found 1020 images belonging to 3 classes.\n"
          ],
          "name": "stdout"
        }
      ]
    },
    {
      "cell_type": "code",
      "metadata": {
        "id": "yTOiOoTBCbBw",
        "colab_type": "code",
        "outputId": "7a293eee-2ae0-4d14-9f91-4bb1b933548a",
        "colab": {
          "base_uri": "https://localhost:8080/",
          "height": 50
        }
      },
      "source": [
        "for data_batch, labels_batch in train_generator:\n",
        "    print('data batch shape:', data_batch.shape)\n",
        "    print('labels batch shape:', labels_batch.shape)\n",
        "    break"
      ],
      "execution_count": 0,
      "outputs": [
        {
          "output_type": "stream",
          "text": [
            "data batch shape: (20, 150, 150, 3)\n",
            "labels batch shape: (20, 3)\n"
          ],
          "name": "stdout"
        }
      ]
    },
    {
      "cell_type": "markdown",
      "metadata": {
        "id": "qV__GN11yO2P",
        "colab_type": "text"
      },
      "source": [
        "## TASK 1: Build a fully connect Neural Network\n",
        "First, let's try what we've learned from the previous lecture. We will build a FULLY connect neural networks to classify the gesture images.You are free to experiment with different structure of the network, data augmentation, dropout, different optimizer, and etc, to try to achieve the best performance on the TEST data in terms of accuracy.  Watch out for overfitting.\n",
        "\n",
        "Note that you should set test aside when you train your model. In the end, please report your model accuracy on the test set. "
      ]
    },
    {
      "cell_type": "code",
      "metadata": {
        "id": "kyTiAnxJXqiU",
        "colab_type": "code",
        "outputId": "e9f22afe-d113-4eeb-c2e2-446d966dec7a",
        "colab": {
          "base_uri": "https://localhost:8080/",
          "height": 353
        }
      },
      "source": [
        "# TODO\n",
        "from keras import layers\n",
        "from keras import models\n",
        "\n",
        "model = models.Sequential()\n",
        "model.add(layers.Dense(64, activation='relu', input_shape=(150, 150, 3)))\n",
        "model.add(layers.Dense(64, activation='relu'))\n",
        "model.add(layers.Dense(64, activation='relu'))\n",
        "model.add(layers.Flatten())\n",
        "model.add(layers.Dropout(0.5))\n",
        "model.add(layers.Dense(3, activation='softmax'))\n",
        "\n",
        "model.summary()"
      ],
      "execution_count": 0,
      "outputs": [
        {
          "output_type": "stream",
          "text": [
            "Model: \"sequential_2\"\n",
            "_________________________________________________________________\n",
            "Layer (type)                 Output Shape              Param #   \n",
            "=================================================================\n",
            "dense_5 (Dense)              (None, 150, 150, 64)      256       \n",
            "_________________________________________________________________\n",
            "dense_6 (Dense)              (None, 150, 150, 64)      4160      \n",
            "_________________________________________________________________\n",
            "dense_7 (Dense)              (None, 150, 150, 64)      4160      \n",
            "_________________________________________________________________\n",
            "flatten_2 (Flatten)          (None, 1440000)           0         \n",
            "_________________________________________________________________\n",
            "dropout_2 (Dropout)          (None, 1440000)           0         \n",
            "_________________________________________________________________\n",
            "dense_8 (Dense)              (None, 3)                 4320003   \n",
            "=================================================================\n",
            "Total params: 4,328,579\n",
            "Trainable params: 4,328,579\n",
            "Non-trainable params: 0\n",
            "_________________________________________________________________\n"
          ],
          "name": "stdout"
        }
      ]
    },
    {
      "cell_type": "code",
      "metadata": {
        "id": "3ioedJE4uZwi",
        "colab_type": "code",
        "colab": {}
      },
      "source": [
        "from keras import optimizers\n",
        "\n",
        "model.compile(loss='categorical_crossentropy',\n",
        "              optimizer=optimizers.RMSprop(lr=0.001),\n",
        "              metrics=['acc'])"
      ],
      "execution_count": 0,
      "outputs": []
    },
    {
      "cell_type": "code",
      "metadata": {
        "id": "sgCZ649XOgV6",
        "colab_type": "code",
        "outputId": "06840458-a488-4c6a-e26f-a19eedc4c8fd",
        "colab": {
          "base_uri": "https://localhost:8080/",
          "height": 689
        }
      },
      "source": [
        "history = model.fit_generator(\n",
        "      train_generator,\n",
        "      steps_per_epoch=100,\n",
        "      epochs=40,\n",
        "      validation_data=validation_generator,\n",
        "      validation_steps=50)"
      ],
      "execution_count": 0,
      "outputs": [
        {
          "output_type": "stream",
          "text": [
            "Epoch 1/20\n",
            "100/100 [==============================] - 23s 230ms/step - loss: 4.6639 - acc: 0.3590 - val_loss: 1.0700 - val_acc: 0.4240\n",
            "Epoch 2/20\n",
            "100/100 [==============================] - 21s 209ms/step - loss: 1.2180 - acc: 0.4225 - val_loss: 1.6928 - val_acc: 0.4280\n",
            "Epoch 3/20\n",
            "100/100 [==============================] - 21s 208ms/step - loss: 1.1531 - acc: 0.4400 - val_loss: 1.2580 - val_acc: 0.4420\n",
            "Epoch 4/20\n",
            "100/100 [==============================] - 21s 207ms/step - loss: 1.1424 - acc: 0.4715 - val_loss: 0.9102 - val_acc: 0.4700\n",
            "Epoch 5/20\n",
            "100/100 [==============================] - 21s 207ms/step - loss: 1.0857 - acc: 0.4755 - val_loss: 1.0943 - val_acc: 0.4090\n",
            "Epoch 6/20\n",
            "100/100 [==============================] - 21s 206ms/step - loss: 1.0399 - acc: 0.5045 - val_loss: 1.3160 - val_acc: 0.4760\n",
            "Epoch 7/20\n",
            "100/100 [==============================] - 21s 207ms/step - loss: 1.0651 - acc: 0.4985 - val_loss: 1.4626 - val_acc: 0.4340\n",
            "Epoch 8/20\n",
            "100/100 [==============================] - 20s 205ms/step - loss: 1.0579 - acc: 0.5280 - val_loss: 2.7028 - val_acc: 0.4350\n",
            "Epoch 9/20\n",
            "100/100 [==============================] - 20s 204ms/step - loss: 1.0113 - acc: 0.5485 - val_loss: 1.1249 - val_acc: 0.4960\n",
            "Epoch 10/20\n",
            "100/100 [==============================] - 20s 204ms/step - loss: 1.0181 - acc: 0.5430 - val_loss: 1.9458 - val_acc: 0.4910\n",
            "Epoch 11/20\n",
            "100/100 [==============================] - 20s 202ms/step - loss: 0.9228 - acc: 0.5795 - val_loss: 1.0370 - val_acc: 0.5570\n",
            "Epoch 12/20\n",
            "100/100 [==============================] - 20s 201ms/step - loss: 0.9610 - acc: 0.5955 - val_loss: 1.5371 - val_acc: 0.4970\n",
            "Epoch 13/20\n",
            "100/100 [==============================] - 20s 200ms/step - loss: 0.9273 - acc: 0.5960 - val_loss: 1.2298 - val_acc: 0.4490\n",
            "Epoch 14/20\n",
            "100/100 [==============================] - 20s 199ms/step - loss: 0.8691 - acc: 0.5775 - val_loss: 1.9706 - val_acc: 0.5110\n",
            "Epoch 15/20\n",
            "100/100 [==============================] - 20s 202ms/step - loss: 0.9088 - acc: 0.5910 - val_loss: 3.0972 - val_acc: 0.4560\n",
            "Epoch 16/20\n",
            "100/100 [==============================] - 20s 203ms/step - loss: 0.9301 - acc: 0.6015 - val_loss: 1.5223 - val_acc: 0.5080\n",
            "Epoch 17/20\n",
            "100/100 [==============================] - 20s 203ms/step - loss: 0.8309 - acc: 0.6130 - val_loss: 1.1049 - val_acc: 0.5510\n",
            "Epoch 18/20\n",
            "100/100 [==============================] - 21s 205ms/step - loss: 0.8855 - acc: 0.6115 - val_loss: 0.8516 - val_acc: 0.5120\n",
            "Epoch 19/20\n",
            "100/100 [==============================] - 20s 203ms/step - loss: 0.8214 - acc: 0.6340 - val_loss: 3.1121 - val_acc: 0.5550\n",
            "Epoch 20/20\n",
            "100/100 [==============================] - 20s 200ms/step - loss: 0.8237 - acc: 0.6235 - val_loss: 1.5904 - val_acc: 0.5150\n"
          ],
          "name": "stdout"
        }
      ]
    },
    {
      "cell_type": "code",
      "metadata": {
        "id": "b7Ie1Sujloql",
        "colab_type": "code",
        "colab": {}
      },
      "source": [
        "acc = history.history['acc']\n",
        "val_acc = history.history['val_acc']\n",
        "loss = history.history['loss']\n",
        "val_loss = history.history['val_loss']\n",
        "\n",
        "epochs = range(len(acc))\n",
        "\n",
        "plt.plot(epochs, acc, 'bo', label='Training acc')\n",
        "plt.plot(epochs, val_acc, 'b', label='Validation acc')\n",
        "plt.title('Training and validation accuracy')\n",
        "plt.legend()\n",
        "\n",
        "plt.figure()\n",
        "\n",
        "plt.plot(epochs, loss, 'bo', label='Training loss')\n",
        "plt.plot(epochs, val_loss, 'b', label='Validation loss')\n",
        "plt.title('Training and validation loss')\n",
        "plt.legend()\n",
        "\n",
        "plt.show()"
      ],
      "execution_count": 0,
      "outputs": []
    },
    {
      "cell_type": "code",
      "metadata": {
        "id": "a-gRAf3o8XFl",
        "colab_type": "code",
        "colab": {}
      },
      "source": [
        "model.evaluate_generator(test_generator)"
      ],
      "execution_count": 0,
      "outputs": []
    },
    {
      "cell_type": "markdown",
      "metadata": {
        "id": "40cMjm9K06YE",
        "colab_type": "text"
      },
      "source": [
        "## TASK 2: Build Convolution Neural Network\n",
        "Now, let's try a convolution neural network (CNN) and see if we can achieve better performance. Similarly you are free to experiment with different structure of the network, techniques to avoid overfitting, different optimizer, and etc, to try to achieve the best performance on the TEST data in terms of accuracy.\n",
        "\n",
        "Note that you should set test aside when you train your model. In the end, please report your model accuracy on the test set. "
      ]
    },
    {
      "cell_type": "code",
      "metadata": {
        "id": "lcxNZCS_090n",
        "colab_type": "code",
        "colab": {}
      },
      "source": [
        "cnnmodel = models.Sequential()\n",
        "cnnmodel.add(layers.Conv2D(32, (3, 3), activation='relu',\n",
        "                        input_shape=(150, 150, 3)))\n",
        "cnnmodel.add(layers.MaxPooling2D((2, 2)))\n",
        "cnnmodel.add(layers.Conv2D(64, (3, 3), activation='relu'))\n",
        "cnnmodel.add(layers.MaxPooling2D((2, 2)))\n",
        "cnnmodel.add(layers.Conv2D(128, (3, 3), activation='relu'))\n",
        "cnnmodel.add(layers.MaxPooling2D((2, 2)))\n",
        "cnnmodel.add(layers.Conv2D(128, (3, 3), activation='relu'))\n",
        "cnnmodel.add(layers.MaxPooling2D((2, 2)))\n",
        "cnnmodel.add(layers.Flatten())\n",
        "cnnmodel.add(layers.Dropout(0.5))\n",
        "cnnmodel.add(layers.Dense(512, activation='relu'))\n",
        "cnnmodel.add(layers.Dense(3, activation='softmax'))"
      ],
      "execution_count": 0,
      "outputs": []
    },
    {
      "cell_type": "code",
      "metadata": {
        "id": "7zdqCvkkCGRq",
        "colab_type": "code",
        "outputId": "22fccc30-5b8b-4757-ec1a-e18e59b62517",
        "colab": {
          "base_uri": "https://localhost:8080/",
          "height": 554
        }
      },
      "source": [
        "cnnmodel.summary()"
      ],
      "execution_count": 0,
      "outputs": [
        {
          "output_type": "stream",
          "text": [
            "Model: \"sequential_4\"\n",
            "_________________________________________________________________\n",
            "Layer (type)                 Output Shape              Param #   \n",
            "=================================================================\n",
            "conv2d_5 (Conv2D)            (None, 148, 148, 32)      896       \n",
            "_________________________________________________________________\n",
            "max_pooling2d_5 (MaxPooling2 (None, 74, 74, 32)        0         \n",
            "_________________________________________________________________\n",
            "conv2d_6 (Conv2D)            (None, 72, 72, 64)        18496     \n",
            "_________________________________________________________________\n",
            "max_pooling2d_6 (MaxPooling2 (None, 36, 36, 64)        0         \n",
            "_________________________________________________________________\n",
            "conv2d_7 (Conv2D)            (None, 34, 34, 128)       73856     \n",
            "_________________________________________________________________\n",
            "max_pooling2d_7 (MaxPooling2 (None, 17, 17, 128)       0         \n",
            "_________________________________________________________________\n",
            "conv2d_8 (Conv2D)            (None, 15, 15, 128)       147584    \n",
            "_________________________________________________________________\n",
            "max_pooling2d_8 (MaxPooling2 (None, 7, 7, 128)         0         \n",
            "_________________________________________________________________\n",
            "flatten_4 (Flatten)          (None, 6272)              0         \n",
            "_________________________________________________________________\n",
            "dropout_4 (Dropout)          (None, 6272)              0         \n",
            "_________________________________________________________________\n",
            "dense_11 (Dense)             (None, 512)               3211776   \n",
            "_________________________________________________________________\n",
            "dense_12 (Dense)             (None, 3)                 1539      \n",
            "=================================================================\n",
            "Total params: 3,454,147\n",
            "Trainable params: 3,454,147\n",
            "Non-trainable params: 0\n",
            "_________________________________________________________________\n"
          ],
          "name": "stdout"
        }
      ]
    },
    {
      "cell_type": "code",
      "metadata": {
        "id": "y6urMxvpCIAw",
        "colab_type": "code",
        "colab": {}
      },
      "source": [
        "cnnmodel.compile(loss='categorical_crossentropy',\n",
        "              optimizer=optimizers.RMSprop(lr=0.001),\n",
        "              metrics=['acc'])"
      ],
      "execution_count": 0,
      "outputs": []
    },
    {
      "cell_type": "code",
      "metadata": {
        "id": "UbjEhkSHCoRo",
        "colab_type": "code",
        "outputId": "94e9ba5b-d274-4d26-f7e3-d1abc1370b47",
        "colab": {
          "base_uri": "https://localhost:8080/",
          "height": 1000
        }
      },
      "source": [
        "history = cnnmodel.fit_generator(\n",
        "      train_generator,\n",
        "      steps_per_epoch=100,\n",
        "      epochs=30,\n",
        "      validation_data=validation_generator,\n",
        "      validation_steps=50)"
      ],
      "execution_count": 0,
      "outputs": [
        {
          "output_type": "stream",
          "text": [
            "Epoch 1/30\n",
            "100/100 [==============================] - 24s 240ms/step - loss: 1.2042 - acc: 0.3685 - val_loss: 0.8204 - val_acc: 0.5720\n",
            "Epoch 2/30\n",
            "100/100 [==============================] - 19s 194ms/step - loss: 0.7804 - acc: 0.6490 - val_loss: 1.7398 - val_acc: 0.6320\n",
            "Epoch 3/30\n",
            "100/100 [==============================] - 20s 198ms/step - loss: 0.5413 - acc: 0.7670 - val_loss: 1.2282 - val_acc: 0.6050\n",
            "Epoch 4/30\n",
            "100/100 [==============================] - 19s 193ms/step - loss: 0.3541 - acc: 0.8580 - val_loss: 4.5388 - val_acc: 0.6250\n",
            "Epoch 5/30\n",
            "100/100 [==============================] - 19s 192ms/step - loss: 0.2758 - acc: 0.9000 - val_loss: 1.7766 - val_acc: 0.5540\n",
            "Epoch 6/30\n",
            "100/100 [==============================] - 19s 193ms/step - loss: 0.2006 - acc: 0.9305 - val_loss: 2.1899 - val_acc: 0.6680\n",
            "Epoch 7/30\n",
            "100/100 [==============================] - 19s 192ms/step - loss: 0.2155 - acc: 0.9270 - val_loss: 7.1327 - val_acc: 0.6640\n",
            "Epoch 8/30\n",
            "100/100 [==============================] - 19s 190ms/step - loss: 0.1714 - acc: 0.9465 - val_loss: 4.7330 - val_acc: 0.6550\n",
            "Epoch 9/30\n",
            "100/100 [==============================] - 19s 191ms/step - loss: 0.1935 - acc: 0.9335 - val_loss: 3.1280 - val_acc: 0.6650\n",
            "Epoch 10/30\n",
            "100/100 [==============================] - 19s 192ms/step - loss: 0.1322 - acc: 0.9520 - val_loss: 4.3172 - val_acc: 0.6620\n",
            "Epoch 11/30\n",
            "100/100 [==============================] - 19s 194ms/step - loss: 0.1327 - acc: 0.9560 - val_loss: 6.6986 - val_acc: 0.6810\n",
            "Epoch 12/30\n",
            "100/100 [==============================] - 20s 195ms/step - loss: 0.1362 - acc: 0.9550 - val_loss: 4.2094 - val_acc: 0.6540\n",
            "Epoch 13/30\n",
            "100/100 [==============================] - 19s 194ms/step - loss: 0.1342 - acc: 0.9605 - val_loss: 8.5588 - val_acc: 0.6610\n",
            "Epoch 14/30\n",
            "100/100 [==============================] - 20s 195ms/step - loss: 0.1171 - acc: 0.9685 - val_loss: 9.8185 - val_acc: 0.6850\n",
            "Epoch 15/30\n",
            "100/100 [==============================] - 19s 195ms/step - loss: 0.1273 - acc: 0.9620 - val_loss: 7.1266 - val_acc: 0.6570\n",
            "Epoch 16/30\n",
            "100/100 [==============================] - 20s 195ms/step - loss: 0.1285 - acc: 0.9610 - val_loss: 5.2540 - val_acc: 0.6670\n",
            "Epoch 17/30\n",
            "100/100 [==============================] - 20s 195ms/step - loss: 0.1058 - acc: 0.9670 - val_loss: 4.0138 - val_acc: 0.6660\n",
            "Epoch 18/30\n",
            "100/100 [==============================] - 20s 195ms/step - loss: 0.0903 - acc: 0.9720 - val_loss: 5.8662 - val_acc: 0.6590\n",
            "Epoch 19/30\n",
            "100/100 [==============================] - 20s 196ms/step - loss: 0.1182 - acc: 0.9690 - val_loss: 7.8340 - val_acc: 0.6550\n",
            "Epoch 20/30\n",
            "100/100 [==============================] - 20s 197ms/step - loss: 0.0920 - acc: 0.9710 - val_loss: 6.2976 - val_acc: 0.6850\n",
            "Epoch 21/30\n",
            "100/100 [==============================] - 20s 196ms/step - loss: 0.1051 - acc: 0.9700 - val_loss: 11.4678 - val_acc: 0.6480\n",
            "Epoch 22/30\n",
            "100/100 [==============================] - 19s 193ms/step - loss: 0.1138 - acc: 0.9630 - val_loss: 14.4345 - val_acc: 0.6650\n",
            "Epoch 23/30\n",
            "100/100 [==============================] - 19s 191ms/step - loss: 0.0690 - acc: 0.9755 - val_loss: 9.5972 - val_acc: 0.6730\n",
            "Epoch 24/30\n",
            "100/100 [==============================] - 19s 191ms/step - loss: 0.1176 - acc: 0.9690 - val_loss: 6.4315 - val_acc: 0.6540\n",
            "Epoch 25/30\n",
            "100/100 [==============================] - 19s 190ms/step - loss: 0.0801 - acc: 0.9745 - val_loss: 6.0006 - val_acc: 0.6810\n",
            "Epoch 26/30\n",
            "100/100 [==============================] - 19s 194ms/step - loss: 0.0887 - acc: 0.9730 - val_loss: 14.0420 - val_acc: 0.6520\n",
            "Epoch 27/30\n",
            "100/100 [==============================] - 19s 195ms/step - loss: 0.1127 - acc: 0.9775 - val_loss: 5.5139 - val_acc: 0.6650\n",
            "Epoch 28/30\n",
            "100/100 [==============================] - 19s 195ms/step - loss: 0.0947 - acc: 0.9745 - val_loss: 4.8846 - val_acc: 0.6740\n",
            "Epoch 29/30\n",
            "100/100 [==============================] - 19s 195ms/step - loss: 0.0754 - acc: 0.9750 - val_loss: 17.8732 - val_acc: 0.6690\n",
            "Epoch 30/30\n",
            "100/100 [==============================] - 20s 198ms/step - loss: 0.0724 - acc: 0.9770 - val_loss: 6.5049 - val_acc: 0.6800\n"
          ],
          "name": "stdout"
        }
      ]
    },
    {
      "cell_type": "code",
      "metadata": {
        "id": "ZNiK-7Uqli5V",
        "colab_type": "code",
        "outputId": "cb72c1d9-36fe-4777-d48c-08b71439739e",
        "colab": {
          "base_uri": "https://localhost:8080/",
          "height": 545
        }
      },
      "source": [
        "acc = history.history['acc']\n",
        "val_acc = history.history['val_acc']\n",
        "loss = history.history['loss']\n",
        "val_loss = history.history['val_loss']\n",
        "\n",
        "epochs = range(len(acc))\n",
        "\n",
        "plt.plot(epochs, acc, 'bo', label='Training acc')\n",
        "plt.plot(epochs, val_acc, 'b', label='Validation acc')\n",
        "plt.title('Training and validation accuracy')\n",
        "plt.legend()\n",
        "\n",
        "plt.figure()\n",
        "\n",
        "plt.plot(epochs, loss, 'bo', label='Training loss')\n",
        "plt.plot(epochs, val_loss, 'b', label='Validation loss')\n",
        "plt.title('Training and validation loss')\n",
        "plt.legend()\n",
        "\n",
        "plt.show()"
      ],
      "execution_count": 0,
      "outputs": [
        {
          "output_type": "display_data",
          "data": {
            "image/png": "[encoded data removed]",
            "text/plain": [
              "<Figure size 432x288 with 1 Axes>"
            ]
          },
          "metadata": {
            "tags": [],
            "needs_background": "light"
          }
        },
        {
          "output_type": "display_data",
          "data": {
            "image/png": "[encoded data removed]",
            "text/plain": [
              "<Figure size 432x288 with 1 Axes>"
            ]
          },
          "metadata": {
            "tags": [],
            "needs_background": "light"
          }
        }
      ]
    },
    {
      "cell_type": "code",
      "metadata": {
        "id": "4lUaBtwY8dIB",
        "colab_type": "code",
        "colab": {}
      },
      "source": [
        "cnnmodel.evaluate_generator(test_generator)"
      ],
      "execution_count": 0,
      "outputs": []
    },
    {
      "cell_type": "markdown",
      "metadata": {
        "id": "pUuqO-p-yrMV",
        "colab_type": "text"
      },
      "source": [
        "## Use the best model to classify gestures\n",
        "You can now run the following code and use the model you trained to classify images uploaded from your laptop. Let us know how your model performs on the new unseen images.  "
      ]
    },
    {
      "cell_type": "code",
      "metadata": {
        "id": "ZABJp7T3VLCU",
        "colab_type": "code",
        "outputId": "94289c27-a9c2-42a6-f642-e73eb92d4082",
        "colab": {
          "resources": {
            "http://localhost:8080/nbextensions/google.colab/files.js": {
              "data": "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",
              "ok": true,
              "headers": [
                [
                  "content-type",
                  "application/javascript"
                ]
              ],
              "status": 200,
              "status_text": ""
            }
          },
          "base_uri": "https://localhost:8080/",
          "height": 108
        }
      },
      "source": [
        "import numpy as np\n",
        "from google.colab import files\n",
        "from keras.preprocessing import image\n",
        "\n",
        "uploaded = files.upload()\n",
        "\n",
        "for fn in uploaded.keys():\n",
        " \n",
        "  # predicting images\n",
        "  path = fn\n",
        "  img = image.load_img(path, target_size=(150, 150))\n",
        "  x = image.img_to_array(img)\n",
        "  x = np.expand_dims(x, axis=0)\n",
        "\n",
        "  images = np.vstack([x])\n",
        "  classes = cnnmodel.predict(images, batch_size=10)\n",
        "  print(fn)\n",
        "  print(classes)"
      ],
      "execution_count": 0,
      "outputs": [
        {
          "output_type": "display_data",
          "data": {
            "text/html": [
              "\n",
              "     <input type=\"file\" id=\"files-6cd26f09-55b2-41be-8c81-d2c832bc827a\" name=\"files[]\" multiple disabled />\n",
              "     <output id=\"result-6cd26f09-55b2-41be-8c81-d2c832bc827a\">\n",
              "      Upload widget is only available when the cell has been executed in the\n",
              "      current browser session. Please rerun this cell to enable.\n",
              "      </output>\n",
              "      <script src=\"/nbextensions/google.colab/files.js\"></script> "
            ],
            "text/plain": [
              "<IPython.core.display.HTML object>"
            ]
          },
          "metadata": {
            "tags": []
          }
        },
        {
          "output_type": "stream",
          "text": [
            "Saving testpaper02-10.png to testpaper02-10.png\n",
            "testpaper02-10.png\n",
            "[[1. 0. 0.]]\n"
          ],
          "name": "stdout"
        }
      ]
    },
    {
      "cell_type": "code",
      "metadata": {
        "id": "CEOJvQ9_ls8i",
        "colab_type": "code",
        "colab": {}
      },
      "source": [
        ""
      ],
      "execution_count": 0,
      "outputs": []
    }
  ]
}