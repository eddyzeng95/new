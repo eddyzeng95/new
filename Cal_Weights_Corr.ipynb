{
  "nbformat": 4,
  "nbformat_minor": 0,
  "metadata": {
    "kernelspec": {
      "display_name": "Python 3",
      "language": "python",
      "name": "python3"
    },
    "language_info": {
      "codemirror_mode": {
        "name": "ipython",
        "version": 3
      },
      "file_extension": ".py",
      "mimetype": "text/x-python",
      "name": "python",
      "nbconvert_exporter": "python",
      "pygments_lexer": "ipython3",
      "version": "3.7.3"
    },
    "colab": {
      "name": "Final_Eddy Zeng.ipynb",
      "provenance": []
    }
  },
  "cells": [
    {
      "cell_type": "markdown",
      "metadata": {
        "id": "Q_Q56MmcTysT",
        "colab_type": "text"
      },
      "source": [
        "# Final Project Eddy Zeng\n",
        "I did end up switching the dataset, the new dataset is also from kaggle, more details below"
      ]
    },
    {
      "cell_type": "markdown",
      "metadata": {
        "id": "B-YkwstmTysW",
        "colab_type": "text"
      },
      "source": [
        "## Dataset Description (10 points)\n",
        "Tell us about your dataset, including: \n",
        "    - Where you got it\n",
        "    - Why the source is reliable\n",
        "    - How it was gathered (study info, participants, etc.)\n",
        "    - What each column contains and any applicable measurment units"
      ]
    },
    {
      "cell_type": "code",
      "metadata": {
        "id": "RlZO8z90TysX",
        "colab_type": "code",
        "colab": {}
      },
      "source": [
        "# dataset url: https://www.kaggle.com/chrisbow/2018-calorie-exercise-and-weight-changes"
      ],
      "execution_count": 0,
      "outputs": []
    },
    {
      "cell_type": "code",
      "metadata": {
        "id": "R6teWFiITysf",
        "colab_type": "code",
        "colab": {}
      },
      "source": [
        "# when it comes reliability, this is a self tracked dataset of a person's weight change and no official data was used\n",
        "# this is a self study involving one participant\n",
        "# data on the participant's weight, caloric intake, etc"
      ],
      "execution_count": 0,
      "outputs": []
    },
    {
      "cell_type": "code",
      "metadata": {
        "id": "U7uQ4kGdTysk",
        "colab_type": "code",
        "colab": {}
      },
      "source": [
        "# columns information Columns\n",
        "# Date date of observations\n",
        "# Stone Stone, pounds, ounces: observed weight\n",
        "# Pounds Stone, pounds, ounces: observed weight\n",
        "# Ounces Stone, pounds, ounces: observed weight\n",
        "# weight_oz Total weight in ounces\n",
        "# calorie sapproximate calories consumed on that date. Calorie counts were taken for each food based on nutritional information and rounded up to the nearest 50 to facilitate easy record keeping. Where nutritional information was not available, calorie counts were estimated from previous experience and best guesses of ingredients and comparison to meals with available nutritional information.\n",
        "# cals_per_oz calories per ounce - calories for that day divided by weight in ounces\n",
        "# five_donuts day where main meal was bag of five jam donuts, 1 = TRUE, 0 = FALSE\n",
        "# walk day included at least one brisk walk of over 20 minutes, 1 = TRUE, 0 = FALSE\n",
        "# run day included at one short run of 2.5 miles, 1 = TRUE, 0 = FALSE\n",
        "# wine day finished with at least one large glass of wine when not accompanied by other fluids, 1 = TRUE, 0 = FALSE\n",
        "# prot day involved what would be considered a high protein diet, 1 = TRUE, 0 = FALSE\n",
        "# weight signifies day during period of weight-based exercise; includes rest days as part of period, 1 = TRUE, 0 = FALSE\n",
        "# change change: resulting change in weight in oz, calculated from following day's observed weigh#"
      ],
      "execution_count": 0,
      "outputs": []
    },
    {
      "cell_type": "markdown",
      "metadata": {
        "id": "23iBwtjETyuh",
        "colab_type": "text"
      },
      "source": [
        "## Read in and Clean Dataset (10 points)\n",
        "Read in your dataset and do all of the necessary transformations and munging including: \n",
        "    - Parsing column headers\n",
        "    - Finding and handling null values\n",
        "    - Encoding categorical variables\n",
        "    - Dropping unnecessary columns\n",
        "    - Binning any large range categorical variables"
      ]
    },
    {
      "cell_type": "code",
      "metadata": {
        "id": "FSbjVgfcTyui",
        "colab_type": "code",
        "colab": {}
      },
      "source": [
        "import numpy as np \n",
        "import pandas as pd \n",
        "import seaborn as sns \n",
        "import matplotlib.pyplot as plt \n",
        "from scipy.stats import norm \n",
        "from sklearn import datasets, linear_model"
      ],
      "execution_count": 0,
      "outputs": []
    },
    {
      "cell_type": "code",
      "metadata": {
        "id": "XlaFlAPVTyum",
        "colab_type": "code",
        "colab": {},
        "outputId": "0e4bda15-d154-48fa-8e50-4939cb1e4fb0"
      },
      "source": [
        "diet = pd.read_csv('/Users/zengy/Documents/GitHub/502week3/python_data_analysis/Homework/diet_data.csv', \n",
        "                 header=0)\n",
        "diet.head()"
      ],
      "execution_count": 0,
      "outputs": [
        {
          "output_type": "execute_result",
          "data": {
            "text/html": [
              "<div>\n",
              "<style scoped>\n",
              "    .dataframe tbody tr th:only-of-type {\n",
              "        vertical-align: middle;\n",
              "    }\n",
              "\n",
              "    .dataframe tbody tr th {\n",
              "        vertical-align: top;\n",
              "    }\n",
              "\n",
              "    .dataframe thead th {\n",
              "        text-align: right;\n",
              "    }\n",
              "</style>\n",
              "<table border=\"1\" class=\"dataframe\">\n",
              "  <thead>\n",
              "    <tr style=\"text-align: right;\">\n",
              "      <th></th>\n",
              "      <th>Date</th>\n",
              "      <th>Stone</th>\n",
              "      <th>Pounds</th>\n",
              "      <th>Ounces</th>\n",
              "      <th>weight_oz</th>\n",
              "      <th>calories</th>\n",
              "      <th>cals_per_oz</th>\n",
              "      <th>five_donuts</th>\n",
              "      <th>walk</th>\n",
              "      <th>run</th>\n",
              "      <th>wine</th>\n",
              "      <th>prot</th>\n",
              "      <th>weight</th>\n",
              "      <th>change</th>\n",
              "    </tr>\n",
              "  </thead>\n",
              "  <tbody>\n",
              "    <tr>\n",
              "      <th>0</th>\n",
              "      <td>7/30/2018</td>\n",
              "      <td>12.0</td>\n",
              "      <td>2.0</td>\n",
              "      <td>6.0</td>\n",
              "      <td>2726.0</td>\n",
              "      <td>1950.0</td>\n",
              "      <td>0.72</td>\n",
              "      <td>1.0</td>\n",
              "      <td>1.0</td>\n",
              "      <td>0.0</td>\n",
              "      <td>0.0</td>\n",
              "      <td>0.0</td>\n",
              "      <td>0.0</td>\n",
              "      <td>-30.0</td>\n",
              "    </tr>\n",
              "    <tr>\n",
              "      <th>1</th>\n",
              "      <td>7/31/2018</td>\n",
              "      <td>12.0</td>\n",
              "      <td>0.0</td>\n",
              "      <td>8.0</td>\n",
              "      <td>2696.0</td>\n",
              "      <td>2600.0</td>\n",
              "      <td>0.96</td>\n",
              "      <td>1.0</td>\n",
              "      <td>0.0</td>\n",
              "      <td>0.0</td>\n",
              "      <td>0.0</td>\n",
              "      <td>0.0</td>\n",
              "      <td>0.0</td>\n",
              "      <td>8.0</td>\n",
              "    </tr>\n",
              "    <tr>\n",
              "      <th>2</th>\n",
              "      <td>8/1/2018</td>\n",
              "      <td>12.0</td>\n",
              "      <td>1.0</td>\n",
              "      <td>0.0</td>\n",
              "      <td>2704.0</td>\n",
              "      <td>2500.0</td>\n",
              "      <td>0.92</td>\n",
              "      <td>1.0</td>\n",
              "      <td>1.0</td>\n",
              "      <td>0.0</td>\n",
              "      <td>0.0</td>\n",
              "      <td>0.0</td>\n",
              "      <td>0.0</td>\n",
              "      <td>0.0</td>\n",
              "    </tr>\n",
              "    <tr>\n",
              "      <th>3</th>\n",
              "      <td>8/2/2018</td>\n",
              "      <td>12.0</td>\n",
              "      <td>1.0</td>\n",
              "      <td>0.0</td>\n",
              "      <td>2704.0</td>\n",
              "      <td>1850.0</td>\n",
              "      <td>0.68</td>\n",
              "      <td>1.0</td>\n",
              "      <td>1.0</td>\n",
              "      <td>0.0</td>\n",
              "      <td>1.0</td>\n",
              "      <td>0.0</td>\n",
              "      <td>0.0</td>\n",
              "      <td>-40.0</td>\n",
              "    </tr>\n",
              "    <tr>\n",
              "      <th>4</th>\n",
              "      <td>8/3/2018</td>\n",
              "      <td>11.0</td>\n",
              "      <td>12.0</td>\n",
              "      <td>8.0</td>\n",
              "      <td>2664.0</td>\n",
              "      <td>2900.0</td>\n",
              "      <td>1.09</td>\n",
              "      <td>1.0</td>\n",
              "      <td>1.0</td>\n",
              "      <td>0.0</td>\n",
              "      <td>0.0</td>\n",
              "      <td>0.0</td>\n",
              "      <td>0.0</td>\n",
              "      <td>14.0</td>\n",
              "    </tr>\n",
              "  </tbody>\n",
              "</table>\n",
              "</div>"
            ],
            "text/plain": [
              "        Date  Stone  Pounds  Ounces  weight_oz  calories cals_per_oz  \\\n",
              "0  7/30/2018   12.0     2.0     6.0     2726.0    1950.0        0.72   \n",
              "1  7/31/2018   12.0     0.0     8.0     2696.0    2600.0        0.96   \n",
              "2   8/1/2018   12.0     1.0     0.0     2704.0    2500.0        0.92   \n",
              "3   8/2/2018   12.0     1.0     0.0     2704.0    1850.0        0.68   \n",
              "4   8/3/2018   11.0    12.0     8.0     2664.0    2900.0        1.09   \n",
              "\n",
              "   five_donuts  walk  run  wine  prot  weight  change  \n",
              "0          1.0   1.0  0.0   0.0   0.0     0.0   -30.0  \n",
              "1          1.0   0.0  0.0   0.0   0.0     0.0     8.0  \n",
              "2          1.0   1.0  0.0   0.0   0.0     0.0     0.0  \n",
              "3          1.0   1.0  0.0   1.0   0.0     0.0   -40.0  \n",
              "4          1.0   1.0  0.0   0.0   0.0     0.0    14.0  "
            ]
          },
          "metadata": {
            "tags": []
          },
          "execution_count": 6
        }
      ]
    },
    {
      "cell_type": "code",
      "metadata": {
        "id": "hYVrkq3-Tyur",
        "colab_type": "code",
        "colab": {},
        "outputId": "a6f01739-3cba-4a73-a11b-ab9513f02c7d"
      },
      "source": [
        "diet.describe()"
      ],
      "execution_count": 0,
      "outputs": [
        {
          "output_type": "execute_result",
          "data": {
            "text/html": [
              "<div>\n",
              "<style scoped>\n",
              "    .dataframe tbody tr th:only-of-type {\n",
              "        vertical-align: middle;\n",
              "    }\n",
              "\n",
              "    .dataframe tbody tr th {\n",
              "        vertical-align: top;\n",
              "    }\n",
              "\n",
              "    .dataframe thead th {\n",
              "        text-align: right;\n",
              "    }\n",
              "</style>\n",
              "<table border=\"1\" class=\"dataframe\">\n",
              "  <thead>\n",
              "    <tr style=\"text-align: right;\">\n",
              "      <th></th>\n",
              "      <th>Stone</th>\n",
              "      <th>Pounds</th>\n",
              "      <th>Ounces</th>\n",
              "      <th>weight_oz</th>\n",
              "      <th>calories</th>\n",
              "      <th>five_donuts</th>\n",
              "      <th>walk</th>\n",
              "      <th>run</th>\n",
              "      <th>wine</th>\n",
              "      <th>prot</th>\n",
              "      <th>weight</th>\n",
              "      <th>change</th>\n",
              "    </tr>\n",
              "  </thead>\n",
              "  <tbody>\n",
              "    <tr>\n",
              "      <th>count</th>\n",
              "      <td>142.000000</td>\n",
              "      <td>142.000000</td>\n",
              "      <td>142.000000</td>\n",
              "      <td>149.000000</td>\n",
              "      <td>140.000000</td>\n",
              "      <td>140.000000</td>\n",
              "      <td>140.000000</td>\n",
              "      <td>140.000000</td>\n",
              "      <td>140.000000</td>\n",
              "      <td>140.000000</td>\n",
              "      <td>140.000000</td>\n",
              "      <td>147.000000</td>\n",
              "    </tr>\n",
              "    <tr>\n",
              "      <th>mean</th>\n",
              "      <td>11.535211</td>\n",
              "      <td>6.218310</td>\n",
              "      <td>3.577465</td>\n",
              "      <td>2560.724832</td>\n",
              "      <td>3180.714286</td>\n",
              "      <td>0.371429</td>\n",
              "      <td>0.678571</td>\n",
              "      <td>0.250000</td>\n",
              "      <td>0.307143</td>\n",
              "      <td>0.178571</td>\n",
              "      <td>0.442857</td>\n",
              "      <td>-19.088435</td>\n",
              "    </tr>\n",
              "    <tr>\n",
              "      <th>std</th>\n",
              "      <td>0.500524</td>\n",
              "      <td>5.655746</td>\n",
              "      <td>2.915656</td>\n",
              "      <td>571.190848</td>\n",
              "      <td>1478.753433</td>\n",
              "      <td>0.484922</td>\n",
              "      <td>0.468702</td>\n",
              "      <td>0.434568</td>\n",
              "      <td>0.462966</td>\n",
              "      <td>0.384368</td>\n",
              "      <td>0.498508</td>\n",
              "      <td>215.557796</td>\n",
              "    </tr>\n",
              "    <tr>\n",
              "      <th>min</th>\n",
              "      <td>11.000000</td>\n",
              "      <td>0.000000</td>\n",
              "      <td>0.000000</td>\n",
              "      <td>0.000000</td>\n",
              "      <td>1400.000000</td>\n",
              "      <td>0.000000</td>\n",
              "      <td>0.000000</td>\n",
              "      <td>0.000000</td>\n",
              "      <td>0.000000</td>\n",
              "      <td>0.000000</td>\n",
              "      <td>0.000000</td>\n",
              "      <td>-2598.000000</td>\n",
              "    </tr>\n",
              "    <tr>\n",
              "      <th>25%</th>\n",
              "      <td>11.000000</td>\n",
              "      <td>1.000000</td>\n",
              "      <td>0.000000</td>\n",
              "      <td>2662.000000</td>\n",
              "      <td>2187.500000</td>\n",
              "      <td>0.000000</td>\n",
              "      <td>0.000000</td>\n",
              "      <td>0.000000</td>\n",
              "      <td>0.000000</td>\n",
              "      <td>0.000000</td>\n",
              "      <td>0.000000</td>\n",
              "      <td>-18.000000</td>\n",
              "    </tr>\n",
              "    <tr>\n",
              "      <th>50%</th>\n",
              "      <td>12.000000</td>\n",
              "      <td>3.500000</td>\n",
              "      <td>4.000000</td>\n",
              "      <td>2688.000000</td>\n",
              "      <td>2575.000000</td>\n",
              "      <td>0.000000</td>\n",
              "      <td>1.000000</td>\n",
              "      <td>0.000000</td>\n",
              "      <td>0.000000</td>\n",
              "      <td>0.000000</td>\n",
              "      <td>0.000000</td>\n",
              "      <td>-2.000000</td>\n",
              "    </tr>\n",
              "    <tr>\n",
              "      <th>75%</th>\n",
              "      <td>12.000000</td>\n",
              "      <td>12.000000</td>\n",
              "      <td>6.000000</td>\n",
              "      <td>2704.000000</td>\n",
              "      <td>3850.000000</td>\n",
              "      <td>1.000000</td>\n",
              "      <td>1.000000</td>\n",
              "      <td>0.250000</td>\n",
              "      <td>1.000000</td>\n",
              "      <td>0.000000</td>\n",
              "      <td>1.000000</td>\n",
              "      <td>14.000000</td>\n",
              "    </tr>\n",
              "    <tr>\n",
              "      <th>max</th>\n",
              "      <td>12.000000</td>\n",
              "      <td>13.000000</td>\n",
              "      <td>8.000000</td>\n",
              "      <td>2768.000000</td>\n",
              "      <td>9150.000000</td>\n",
              "      <td>1.000000</td>\n",
              "      <td>1.000000</td>\n",
              "      <td>1.000000</td>\n",
              "      <td>1.000000</td>\n",
              "      <td>1.000000</td>\n",
              "      <td>1.000000</td>\n",
              "      <td>102.000000</td>\n",
              "    </tr>\n",
              "  </tbody>\n",
              "</table>\n",
              "</div>"
            ],
            "text/plain": [
              "            Stone      Pounds      Ounces    weight_oz     calories  \\\n",
              "count  142.000000  142.000000  142.000000   149.000000   140.000000   \n",
              "mean    11.535211    6.218310    3.577465  2560.724832  3180.714286   \n",
              "std      0.500524    5.655746    2.915656   571.190848  1478.753433   \n",
              "min     11.000000    0.000000    0.000000     0.000000  1400.000000   \n",
              "25%     11.000000    1.000000    0.000000  2662.000000  2187.500000   \n",
              "50%     12.000000    3.500000    4.000000  2688.000000  2575.000000   \n",
              "75%     12.000000   12.000000    6.000000  2704.000000  3850.000000   \n",
              "max     12.000000   13.000000    8.000000  2768.000000  9150.000000   \n",
              "\n",
              "       five_donuts        walk         run        wine        prot  \\\n",
              "count   140.000000  140.000000  140.000000  140.000000  140.000000   \n",
              "mean      0.371429    0.678571    0.250000    0.307143    0.178571   \n",
              "std       0.484922    0.468702    0.434568    0.462966    0.384368   \n",
              "min       0.000000    0.000000    0.000000    0.000000    0.000000   \n",
              "25%       0.000000    0.000000    0.000000    0.000000    0.000000   \n",
              "50%       0.000000    1.000000    0.000000    0.000000    0.000000   \n",
              "75%       1.000000    1.000000    0.250000    1.000000    0.000000   \n",
              "max       1.000000    1.000000    1.000000    1.000000    1.000000   \n",
              "\n",
              "           weight       change  \n",
              "count  140.000000   147.000000  \n",
              "mean     0.442857   -19.088435  \n",
              "std      0.498508   215.557796  \n",
              "min      0.000000 -2598.000000  \n",
              "25%      0.000000   -18.000000  \n",
              "50%      0.000000    -2.000000  \n",
              "75%      1.000000    14.000000  \n",
              "max      1.000000   102.000000  "
            ]
          },
          "metadata": {
            "tags": []
          },
          "execution_count": 7
        }
      ]
    },
    {
      "cell_type": "code",
      "metadata": {
        "id": "eQB46SeoTyuv",
        "colab_type": "code",
        "colab": {},
        "outputId": "c1fa1eae-1950-4b74-ca29-689a678e57a7"
      },
      "source": [
        "diet.dtypes"
      ],
      "execution_count": 0,
      "outputs": [
        {
          "output_type": "execute_result",
          "data": {
            "text/plain": [
              "Date            object\n",
              "Stone          float64\n",
              "Pounds         float64\n",
              "Ounces         float64\n",
              "weight_oz      float64\n",
              "calories       float64\n",
              "cals_per_oz     object\n",
              "five_donuts    float64\n",
              "walk           float64\n",
              "run            float64\n",
              "wine           float64\n",
              "prot           float64\n",
              "weight         float64\n",
              "change         float64\n",
              "dtype: object"
            ]
          },
          "metadata": {
            "tags": []
          },
          "execution_count": 8
        }
      ]
    },
    {
      "cell_type": "code",
      "metadata": {
        "id": "Zb2EpsK7Tyuz",
        "colab_type": "code",
        "colab": {},
        "outputId": "0332d427-5662-4b04-95f8-5b1fa3bee26d"
      },
      "source": [
        "diet.isnull().sum()"
      ],
      "execution_count": 0,
      "outputs": [
        {
          "output_type": "execute_result",
          "data": {
            "text/plain": [
              "Date            1\n",
              "Stone           9\n",
              "Pounds          9\n",
              "Ounces          9\n",
              "weight_oz       2\n",
              "calories       11\n",
              "cals_per_oz     4\n",
              "five_donuts    11\n",
              "walk           11\n",
              "run            11\n",
              "wine           11\n",
              "prot           11\n",
              "weight         11\n",
              "change          4\n",
              "dtype: int64"
            ]
          },
          "metadata": {
            "tags": []
          },
          "execution_count": 9
        }
      ]
    },
    {
      "cell_type": "code",
      "metadata": {
        "id": "iH20I3hsTyu3",
        "colab_type": "code",
        "colab": {}
      },
      "source": [
        "# right off the back I'm going to get rid of stone, pounds and Ounces and keep weight_oz\n",
        "# since the other three are just weight in different units\n",
        "# no clean up needed for those three columns"
      ],
      "execution_count": 0,
      "outputs": []
    },
    {
      "cell_type": "code",
      "metadata": {
        "id": "ujzDpHmfTyu6",
        "colab_type": "code",
        "colab": {},
        "outputId": "41e760f2-9a80-493e-81f8-ff28ed43c3d4"
      },
      "source": [
        "diet[['weight_oz', 'calories', 'change']].mean()"
      ],
      "execution_count": 0,
      "outputs": [
        {
          "output_type": "execute_result",
          "data": {
            "text/plain": [
              "weight_oz    2560.724832\n",
              "calories     3180.714286\n",
              "change        -19.088435\n",
              "dtype: float64"
            ]
          },
          "metadata": {
            "tags": []
          },
          "execution_count": 11
        }
      ]
    },
    {
      "cell_type": "code",
      "metadata": {
        "id": "o1-7O-7rTyu-",
        "colab_type": "code",
        "colab": {}
      },
      "source": [
        "# donuts, walk, run, prot, wine, weight are all binary columns, though the types are float\n",
        "# null values in these columns likely means the day wasn't being recorded so its best to drop the rows"
      ],
      "execution_count": 0,
      "outputs": []
    },
    {
      "cell_type": "code",
      "metadata": {
        "id": "cj9S61ttTyvC",
        "colab_type": "code",
        "colab": {},
        "outputId": "09ad5236-5f33-4bc0-a0ff-2e2742116390"
      },
      "source": [
        "diet = diet.dropna()\n",
        "diet.isnull().sum()\n",
        "# all rows with null values dropped"
      ],
      "execution_count": 0,
      "outputs": [
        {
          "output_type": "execute_result",
          "data": {
            "text/plain": [
              "Date           0\n",
              "Stone          0\n",
              "Pounds         0\n",
              "Ounces         0\n",
              "weight_oz      0\n",
              "calories       0\n",
              "cals_per_oz    0\n",
              "five_donuts    0\n",
              "walk           0\n",
              "run            0\n",
              "wine           0\n",
              "prot           0\n",
              "weight         0\n",
              "change         0\n",
              "dtype: int64"
            ]
          },
          "metadata": {
            "tags": []
          },
          "execution_count": 13
        }
      ]
    },
    {
      "cell_type": "code",
      "metadata": {
        "id": "Ap7r3CZ2TyvF",
        "colab_type": "code",
        "colab": {},
        "outputId": "30f8332e-ca92-4585-c150-8fc3a9e499ba"
      },
      "source": [
        "diet.count()"
      ],
      "execution_count": 0,
      "outputs": [
        {
          "output_type": "execute_result",
          "data": {
            "text/plain": [
              "Date           140\n",
              "Stone          140\n",
              "Pounds         140\n",
              "Ounces         140\n",
              "weight_oz      140\n",
              "calories       140\n",
              "cals_per_oz    140\n",
              "five_donuts    140\n",
              "walk           140\n",
              "run            140\n",
              "wine           140\n",
              "prot           140\n",
              "weight         140\n",
              "change         140\n",
              "dtype: int64"
            ]
          },
          "metadata": {
            "tags": []
          },
          "execution_count": 14
        }
      ]
    },
    {
      "cell_type": "code",
      "metadata": {
        "id": "QbzX4wD1TyvI",
        "colab_type": "code",
        "colab": {}
      },
      "source": [
        "# donuts, walk, run, prot, wine, weight are binary columns and can be one hot encoded\n",
        "# but because they are all already in formats of 1 and 0, if I change the type from float to int will be the same thing"
      ],
      "execution_count": 0,
      "outputs": []
    },
    {
      "cell_type": "code",
      "metadata": {
        "id": "0ufTm3nJTyvK",
        "colab_type": "code",
        "colab": {}
      },
      "source": [
        "diet['five_donuts'] = diet['five_donuts'].astype(int)\n",
        "diet['walk'] = diet['walk'].astype(int)\n",
        "diet['run'] = diet['run'].astype(int)\n",
        "diet['wine'] = diet['wine'].astype(int)\n",
        "diet['prot'] = diet['prot'].astype(int)\n",
        "diet['weight'] = diet['weight'].astype(int)"
      ],
      "execution_count": 0,
      "outputs": []
    },
    {
      "cell_type": "code",
      "metadata": {
        "id": "O7qkj5zjTyvN",
        "colab_type": "code",
        "colab": {},
        "outputId": "19b1cdfa-171a-4a4a-8b31-388555698493"
      },
      "source": [
        "# dropping columns stone, pounds, ounces\n",
        "diet = diet.drop(['Stone', 'Pounds', 'Ounces'], axis = 1)\n",
        "diet.columns"
      ],
      "execution_count": 0,
      "outputs": [
        {
          "output_type": "execute_result",
          "data": {
            "text/plain": [
              "Index(['Date', 'weight_oz', 'calories', 'cals_per_oz', 'five_donuts', 'walk',\n",
              "       'run', 'wine', 'prot', 'weight', 'change'],\n",
              "      dtype='object')"
            ]
          },
          "metadata": {
            "tags": []
          },
          "execution_count": 17
        }
      ]
    },
    {
      "cell_type": "code",
      "metadata": {
        "id": "6g_43ZkTTyvP",
        "colab_type": "code",
        "colab": {}
      },
      "source": [
        "# no binning necessary theres no need to put value into categories"
      ],
      "execution_count": 0,
      "outputs": []
    },
    {
      "cell_type": "markdown",
      "metadata": {
        "id": "NLQkSqsHTyvS",
        "colab_type": "text"
      },
      "source": [
        "## Exploratory Data Analysis (20 points)\n",
        "Once you've cleaned your dataset, now you can examine your dataset using the steps we outlined in the EDA section of class, including: \n",
        "- Examing the distribution of features\n",
        "- Feature normalization and scaling\n",
        "- Examining and plotting correlation between variables\n",
        "- Detecting and Handling outliers"
      ]
    },
    {
      "cell_type": "code",
      "metadata": {
        "id": "60kKWe2ITyvS",
        "colab_type": "code",
        "colab": {},
        "outputId": "2bfd0602-25de-4963-ac05-fef9c8304450"
      },
      "source": [
        "diet.plot(kind = 'density')"
      ],
      "execution_count": 0,
      "outputs": [
        {
          "output_type": "execute_result",
          "data": {
            "text/plain": [
              "<matplotlib.axes._subplots.AxesSubplot at 0x26ac830d2b0>"
            ]
          },
          "metadata": {
            "tags": []
          },
          "execution_count": 19
        },
        {
          "output_type": "display_data",
          "data": {
            "image/png": "[encoded data removed]",
            "text/plain": [
              "<Figure size 432x288 with 1 Axes>"
            ]
          },
          "metadata": {
            "tags": [],
            "needs_background": "light"
          }
        }
      ]
    },
    {
      "cell_type": "code",
      "metadata": {
        "id": "-t6CEBiyTyvV",
        "colab_type": "code",
        "colab": {}
      },
      "source": [
        "# scaling weight_oz, calories, and change\n",
        "from sklearn import preprocessing \n",
        "dietscale = diet[['weight_oz', 'calories', 'change']]"
      ],
      "execution_count": 0,
      "outputs": []
    },
    {
      "cell_type": "code",
      "metadata": {
        "id": "gXC4Yz53TyvZ",
        "colab_type": "code",
        "colab": {},
        "outputId": "4edb6151-1310-4979-e390-d0e1ccdabbce"
      },
      "source": [
        "# minmax is not a good way for this set because value goes to negative sometimes\n",
        "standard = preprocessing.StandardScaler()\n",
        "dietscale = pd.DataFrame(standard.fit_transform(dietscale), columns=dietscale.columns)\n",
        "dietscale.describe()"
      ],
      "execution_count": 0,
      "outputs": [
        {
          "output_type": "execute_result",
          "data": {
            "text/html": [
              "<div>\n",
              "<style scoped>\n",
              "    .dataframe tbody tr th:only-of-type {\n",
              "        vertical-align: middle;\n",
              "    }\n",
              "\n",
              "    .dataframe tbody tr th {\n",
              "        vertical-align: top;\n",
              "    }\n",
              "\n",
              "    .dataframe thead th {\n",
              "        text-align: right;\n",
              "    }\n",
              "</style>\n",
              "<table border=\"1\" class=\"dataframe\">\n",
              "  <thead>\n",
              "    <tr style=\"text-align: right;\">\n",
              "      <th></th>\n",
              "      <th>weight_oz</th>\n",
              "      <th>calories</th>\n",
              "      <th>change</th>\n",
              "    </tr>\n",
              "  </thead>\n",
              "  <tbody>\n",
              "    <tr>\n",
              "      <th>count</th>\n",
              "      <td>1.400000e+02</td>\n",
              "      <td>1.400000e+02</td>\n",
              "      <td>1.400000e+02</td>\n",
              "    </tr>\n",
              "    <tr>\n",
              "      <th>mean</th>\n",
              "      <td>6.429777e-15</td>\n",
              "      <td>-3.489272e-17</td>\n",
              "      <td>5.075305e-17</td>\n",
              "    </tr>\n",
              "    <tr>\n",
              "      <th>std</th>\n",
              "      <td>1.003591e+00</td>\n",
              "      <td>1.003591e+00</td>\n",
              "      <td>1.003591e+00</td>\n",
              "    </tr>\n",
              "    <tr>\n",
              "      <th>min</th>\n",
              "      <td>-2.090289e+00</td>\n",
              "      <td>-1.208523e+00</td>\n",
              "      <td>-2.259758e+00</td>\n",
              "    </tr>\n",
              "    <tr>\n",
              "      <th>25%</th>\n",
              "      <td>-6.197341e-01</td>\n",
              "      <td>-6.740682e-01</td>\n",
              "      <td>-6.603339e-01</td>\n",
              "    </tr>\n",
              "    <tr>\n",
              "      <th>50%</th>\n",
              "      <td>4.551719e-02</td>\n",
              "      <td>-4.110822e-01</td>\n",
              "      <td>-6.054964e-02</td>\n",
              "    </tr>\n",
              "    <tr>\n",
              "      <th>75%</th>\n",
              "      <td>5.707156e-01</td>\n",
              "      <td>4.542264e-01</td>\n",
              "      <td>6.991770e-01</td>\n",
              "    </tr>\n",
              "    <tr>\n",
              "      <th>max</th>\n",
              "      <td>2.811562e+00</td>\n",
              "      <td>4.051196e+00</td>\n",
              "      <td>4.137940e+00</td>\n",
              "    </tr>\n",
              "  </tbody>\n",
              "</table>\n",
              "</div>"
            ],
            "text/plain": [
              "          weight_oz      calories        change\n",
              "count  1.400000e+02  1.400000e+02  1.400000e+02\n",
              "mean   6.429777e-15 -3.489272e-17  5.075305e-17\n",
              "std    1.003591e+00  1.003591e+00  1.003591e+00\n",
              "min   -2.090289e+00 -1.208523e+00 -2.259758e+00\n",
              "25%   -6.197341e-01 -6.740682e-01 -6.603339e-01\n",
              "50%    4.551719e-02 -4.110822e-01 -6.054964e-02\n",
              "75%    5.707156e-01  4.542264e-01  6.991770e-01\n",
              "max    2.811562e+00  4.051196e+00  4.137940e+00"
            ]
          },
          "metadata": {
            "tags": []
          },
          "execution_count": 21
        }
      ]
    },
    {
      "cell_type": "code",
      "metadata": {
        "id": "VFWi82KfTyvc",
        "colab_type": "code",
        "colab": {},
        "outputId": "cfcce792-6bc6-43ce-b519-3dabc82da390"
      },
      "source": [
        "dietscale.plot(kind = 'density')"
      ],
      "execution_count": 0,
      "outputs": [
        {
          "output_type": "execute_result",
          "data": {
            "text/plain": [
              "<matplotlib.axes._subplots.AxesSubplot at 0x26ac86495c0>"
            ]
          },
          "metadata": {
            "tags": []
          },
          "execution_count": 22
        },
        {
          "output_type": "display_data",
          "data": {
            "image/png": "[encoded data removed]",
            "text/plain": [
              "<Figure size 432x288 with 1 Axes>"
            ]
          },
          "metadata": {
            "tags": [],
            "needs_background": "light"
          }
        }
      ]
    },
    {
      "cell_type": "code",
      "metadata": {
        "id": "bezvZ6klTyvf",
        "colab_type": "code",
        "colab": {},
        "outputId": "8371e3e1-69a6-4cfd-9401-4a34e7661a6d"
      },
      "source": [
        "dietscale.corr()"
      ],
      "execution_count": 0,
      "outputs": [
        {
          "output_type": "execute_result",
          "data": {
            "text/html": [
              "<div>\n",
              "<style scoped>\n",
              "    .dataframe tbody tr th:only-of-type {\n",
              "        vertical-align: middle;\n",
              "    }\n",
              "\n",
              "    .dataframe tbody tr th {\n",
              "        vertical-align: top;\n",
              "    }\n",
              "\n",
              "    .dataframe thead th {\n",
              "        text-align: right;\n",
              "    }\n",
              "</style>\n",
              "<table border=\"1\" class=\"dataframe\">\n",
              "  <thead>\n",
              "    <tr style=\"text-align: right;\">\n",
              "      <th></th>\n",
              "      <th>weight_oz</th>\n",
              "      <th>calories</th>\n",
              "      <th>change</th>\n",
              "    </tr>\n",
              "  </thead>\n",
              "  <tbody>\n",
              "    <tr>\n",
              "      <th>weight_oz</th>\n",
              "      <td>1.000000</td>\n",
              "      <td>-0.090605</td>\n",
              "      <td>-0.425912</td>\n",
              "    </tr>\n",
              "    <tr>\n",
              "      <th>calories</th>\n",
              "      <td>-0.090605</td>\n",
              "      <td>1.000000</td>\n",
              "      <td>0.773989</td>\n",
              "    </tr>\n",
              "    <tr>\n",
              "      <th>change</th>\n",
              "      <td>-0.425912</td>\n",
              "      <td>0.773989</td>\n",
              "      <td>1.000000</td>\n",
              "    </tr>\n",
              "  </tbody>\n",
              "</table>\n",
              "</div>"
            ],
            "text/plain": [
              "           weight_oz  calories    change\n",
              "weight_oz   1.000000 -0.090605 -0.425912\n",
              "calories   -0.090605  1.000000  0.773989\n",
              "change     -0.425912  0.773989  1.000000"
            ]
          },
          "metadata": {
            "tags": []
          },
          "execution_count": 23
        }
      ]
    },
    {
      "cell_type": "code",
      "metadata": {
        "id": "0QKrc4PGTyvi",
        "colab_type": "code",
        "colab": {},
        "outputId": "da6949ee-73ec-4f57-9511-b806c7385214"
      },
      "source": [
        "diet['change'] = dietscale['change']\n",
        "diet['weight_oz'] = dietscale['weight_oz']\n",
        "diet['calories'] = dietscale['calories']\n",
        "diet.corr()"
      ],
      "execution_count": 0,
      "outputs": [
        {
          "output_type": "execute_result",
          "data": {
            "text/html": [
              "<div>\n",
              "<style scoped>\n",
              "    .dataframe tbody tr th:only-of-type {\n",
              "        vertical-align: middle;\n",
              "    }\n",
              "\n",
              "    .dataframe tbody tr th {\n",
              "        vertical-align: top;\n",
              "    }\n",
              "\n",
              "    .dataframe thead th {\n",
              "        text-align: right;\n",
              "    }\n",
              "</style>\n",
              "<table border=\"1\" class=\"dataframe\">\n",
              "  <thead>\n",
              "    <tr style=\"text-align: right;\">\n",
              "      <th></th>\n",
              "      <th>weight_oz</th>\n",
              "      <th>calories</th>\n",
              "      <th>five_donuts</th>\n",
              "      <th>walk</th>\n",
              "      <th>run</th>\n",
              "      <th>wine</th>\n",
              "      <th>prot</th>\n",
              "      <th>weight</th>\n",
              "      <th>change</th>\n",
              "    </tr>\n",
              "  </thead>\n",
              "  <tbody>\n",
              "    <tr>\n",
              "      <th>weight_oz</th>\n",
              "      <td>1.000000</td>\n",
              "      <td>-0.137612</td>\n",
              "      <td>-0.061664</td>\n",
              "      <td>-0.011940</td>\n",
              "      <td>-0.095055</td>\n",
              "      <td>0.051153</td>\n",
              "      <td>-0.030135</td>\n",
              "      <td>0.058272</td>\n",
              "      <td>-0.454352</td>\n",
              "    </tr>\n",
              "    <tr>\n",
              "      <th>calories</th>\n",
              "      <td>-0.137612</td>\n",
              "      <td>1.000000</td>\n",
              "      <td>0.015376</td>\n",
              "      <td>-0.104228</td>\n",
              "      <td>0.192079</td>\n",
              "      <td>-0.038908</td>\n",
              "      <td>0.047781</td>\n",
              "      <td>0.191789</td>\n",
              "      <td>0.774805</td>\n",
              "    </tr>\n",
              "    <tr>\n",
              "      <th>five_donuts</th>\n",
              "      <td>-0.061664</td>\n",
              "      <td>0.015376</td>\n",
              "      <td>1.000000</td>\n",
              "      <td>0.275835</td>\n",
              "      <td>-0.136558</td>\n",
              "      <td>-0.159311</td>\n",
              "      <td>-0.281215</td>\n",
              "      <td>-0.149653</td>\n",
              "      <td>0.039156</td>\n",
              "    </tr>\n",
              "    <tr>\n",
              "      <th>walk</th>\n",
              "      <td>-0.011940</td>\n",
              "      <td>-0.104228</td>\n",
              "      <td>0.275835</td>\n",
              "      <td>1.000000</td>\n",
              "      <td>-0.132453</td>\n",
              "      <td>-0.072229</td>\n",
              "      <td>0.201095</td>\n",
              "      <td>0.059382</td>\n",
              "      <td>-0.097861</td>\n",
              "    </tr>\n",
              "    <tr>\n",
              "      <th>run</th>\n",
              "      <td>-0.095055</td>\n",
              "      <td>0.192079</td>\n",
              "      <td>-0.136558</td>\n",
              "      <td>-0.132453</td>\n",
              "      <td>1.000000</td>\n",
              "      <td>-0.062577</td>\n",
              "      <td>-0.053838</td>\n",
              "      <td>0.249068</td>\n",
              "      <td>0.065623</td>\n",
              "    </tr>\n",
              "    <tr>\n",
              "      <th>wine</th>\n",
              "      <td>0.051153</td>\n",
              "      <td>-0.038908</td>\n",
              "      <td>-0.159311</td>\n",
              "      <td>-0.072229</td>\n",
              "      <td>-0.062577</td>\n",
              "      <td>1.000000</td>\n",
              "      <td>-0.027434</td>\n",
              "      <td>-0.063680</td>\n",
              "      <td>-0.010755</td>\n",
              "    </tr>\n",
              "    <tr>\n",
              "      <th>prot</th>\n",
              "      <td>-0.030135</td>\n",
              "      <td>0.047781</td>\n",
              "      <td>-0.281215</td>\n",
              "      <td>0.201095</td>\n",
              "      <td>-0.053838</td>\n",
              "      <td>-0.027434</td>\n",
              "      <td>1.000000</td>\n",
              "      <td>0.522965</td>\n",
              "      <td>-0.004011</td>\n",
              "    </tr>\n",
              "    <tr>\n",
              "      <th>weight</th>\n",
              "      <td>0.058272</td>\n",
              "      <td>0.191789</td>\n",
              "      <td>-0.149653</td>\n",
              "      <td>0.059382</td>\n",
              "      <td>0.249068</td>\n",
              "      <td>-0.063680</td>\n",
              "      <td>0.522965</td>\n",
              "      <td>1.000000</td>\n",
              "      <td>0.060886</td>\n",
              "    </tr>\n",
              "    <tr>\n",
              "      <th>change</th>\n",
              "      <td>-0.454352</td>\n",
              "      <td>0.774805</td>\n",
              "      <td>0.039156</td>\n",
              "      <td>-0.097861</td>\n",
              "      <td>0.065623</td>\n",
              "      <td>-0.010755</td>\n",
              "      <td>-0.004011</td>\n",
              "      <td>0.060886</td>\n",
              "      <td>1.000000</td>\n",
              "    </tr>\n",
              "  </tbody>\n",
              "</table>\n",
              "</div>"
            ],
            "text/plain": [
              "             weight_oz  calories  five_donuts      walk       run      wine  \\\n",
              "weight_oz     1.000000 -0.137612    -0.061664 -0.011940 -0.095055  0.051153   \n",
              "calories     -0.137612  1.000000     0.015376 -0.104228  0.192079 -0.038908   \n",
              "five_donuts  -0.061664  0.015376     1.000000  0.275835 -0.136558 -0.159311   \n",
              "walk         -0.011940 -0.104228     0.275835  1.000000 -0.132453 -0.072229   \n",
              "run          -0.095055  0.192079    -0.136558 -0.132453  1.000000 -0.062577   \n",
              "wine          0.051153 -0.038908    -0.159311 -0.072229 -0.062577  1.000000   \n",
              "prot         -0.030135  0.047781    -0.281215  0.201095 -0.053838 -0.027434   \n",
              "weight        0.058272  0.191789    -0.149653  0.059382  0.249068 -0.063680   \n",
              "change       -0.454352  0.774805     0.039156 -0.097861  0.065623 -0.010755   \n",
              "\n",
              "                 prot    weight    change  \n",
              "weight_oz   -0.030135  0.058272 -0.454352  \n",
              "calories     0.047781  0.191789  0.774805  \n",
              "five_donuts -0.281215 -0.149653  0.039156  \n",
              "walk         0.201095  0.059382 -0.097861  \n",
              "run         -0.053838  0.249068  0.065623  \n",
              "wine        -0.027434 -0.063680 -0.010755  \n",
              "prot         1.000000  0.522965 -0.004011  \n",
              "weight       0.522965  1.000000  0.060886  \n",
              "change      -0.004011  0.060886  1.000000  "
            ]
          },
          "metadata": {
            "tags": []
          },
          "execution_count": 24
        }
      ]
    },
    {
      "cell_type": "markdown",
      "metadata": {
        "id": "xo5OUV5vTyvk",
        "colab_type": "text"
      },
      "source": [
        "## Linear Regression (or supplement with another appropriate model) (20 points)\n",
        "Once your data is in a roughly normal distribution, you can now setup your model for linear regression. The questions you ask in this section should have been guided by the results of your EDA. \n",
        "- Create your model\n",
        "- Visualize results\n",
        "- Examine error\n",
        "- Check and plot residuals"
      ]
    },
    {
      "cell_type": "code",
      "metadata": {
        "id": "mJY-rttmTyvk",
        "colab_type": "code",
        "colab": {},
        "outputId": "16e0991b-c3a3-4495-f738-fe81621a6a9e"
      },
      "source": [
        "# the highest correlation in this dataset are between weight change and calories intake\n",
        "plt.scatter(diet['calories'], diet['change'])"
      ],
      "execution_count": 0,
      "outputs": [
        {
          "output_type": "execute_result",
          "data": {
            "text/plain": [
              "<matplotlib.collections.PathCollection at 0x26ac8711b00>"
            ]
          },
          "metadata": {
            "tags": []
          },
          "execution_count": 25
        },
        {
          "output_type": "display_data",
          "data": {
            "image/png": "[encoded data removed]",
            "text/plain": [
              "<Figure size 432x288 with 1 Axes>"
            ]
          },
          "metadata": {
            "tags": [],
            "needs_background": "light"
          }
        }
      ]
    },
    {
      "cell_type": "code",
      "metadata": {
        "id": "1JpJ13fLTyvn",
        "colab_type": "code",
        "colab": {},
        "outputId": "68841e7a-9c3d-4bc6-a5c0-4f191bb9e0dd"
      },
      "source": [
        "import seaborn as sns\n",
        "corr = diet.corr()\n",
        "sns.heatmap(corr, \n",
        "            vmin=0, vmax=1, # setting min and max probability\n",
        "            center=0.5, # changing to peach for high correlation, blue for low\n",
        "            xticklabels=corr.columns.values,\n",
        "            yticklabels=corr.columns.values)\n"
      ],
      "execution_count": 0,
      "outputs": [
        {
          "output_type": "execute_result",
          "data": {
            "text/plain": [
              "<matplotlib.axes._subplots.AxesSubplot at 0x26ac8765c88>"
            ]
          },
          "metadata": {
            "tags": []
          },
          "execution_count": 26
        },
        {
          "output_type": "display_data",
          "data": {
            "image/png": "[encoded data removed]",
            "text/plain": [
              "<Figure size 432x288 with 2 Axes>"
            ]
          },
          "metadata": {
            "tags": [],
            "needs_background": "light"
          }
        }
      ]
    },
    {
      "cell_type": "code",
      "metadata": {
        "id": "cVQJEGpwTyvq",
        "colab_type": "code",
        "colab": {}
      },
      "source": [
        "# running training and testing on calories and change\n",
        "dietx = pd.DataFrame(diet.calories,\n",
        "                 columns=[\"calories\"])\n",
        "diety = pd.DataFrame(diet.change,\n",
        "                 columns=[\"change\"])"
      ],
      "execution_count": 0,
      "outputs": []
    },
    {
      "cell_type": "code",
      "metadata": {
        "id": "1yd_XzqlTyvt",
        "colab_type": "code",
        "colab": {}
      },
      "source": [
        "dietx = dietx.dropna()\n",
        "diety = diety.dropna()"
      ],
      "execution_count": 0,
      "outputs": []
    },
    {
      "cell_type": "code",
      "metadata": {
        "id": "pibNxaFlTyvv",
        "colab_type": "code",
        "colab": {}
      },
      "source": [
        "from sklearn.model_selection import train_test_split\n",
        "x_train, x_test, y_train, y_test = train_test_split(dietx, diety,  \n",
        "                        test_size= 0.2,\n",
        "                        random_state=20)"
      ],
      "execution_count": 0,
      "outputs": []
    },
    {
      "cell_type": "code",
      "metadata": {
        "id": "kfX_5P1ITyvx",
        "colab_type": "code",
        "colab": {}
      },
      "source": [
        "from sklearn.linear_model import LinearRegression\n",
        "model = LinearRegression(fit_intercept=True,\n",
        "                        n_jobs=6)"
      ],
      "execution_count": 0,
      "outputs": []
    },
    {
      "cell_type": "code",
      "metadata": {
        "id": "5j_9tx6DTyvz",
        "colab_type": "code",
        "colab": {}
      },
      "source": [
        "fit = model.fit(x_train, y_train)"
      ],
      "execution_count": 0,
      "outputs": []
    },
    {
      "cell_type": "code",
      "metadata": {
        "id": "gJ6bNaMoTyv2",
        "colab_type": "code",
        "colab": {},
        "outputId": "1439f1a2-a438-4876-b442-92d8d8e212c6"
      },
      "source": [
        "coef_df = pd.DataFrame([dietx.columns[0], float(fit.coef_)]).T\n",
        "coef_df.columns = [\"feature\", \"coeff\"]\n",
        "coef_df"
      ],
      "execution_count": 0,
      "outputs": [
        {
          "output_type": "execute_result",
          "data": {
            "text/html": [
              "<div>\n",
              "<style scoped>\n",
              "    .dataframe tbody tr th:only-of-type {\n",
              "        vertical-align: middle;\n",
              "    }\n",
              "\n",
              "    .dataframe tbody tr th {\n",
              "        vertical-align: top;\n",
              "    }\n",
              "\n",
              "    .dataframe thead th {\n",
              "        text-align: right;\n",
              "    }\n",
              "</style>\n",
              "<table border=\"1\" class=\"dataframe\">\n",
              "  <thead>\n",
              "    <tr style=\"text-align: right;\">\n",
              "      <th></th>\n",
              "      <th>feature</th>\n",
              "      <th>coeff</th>\n",
              "    </tr>\n",
              "  </thead>\n",
              "  <tbody>\n",
              "    <tr>\n",
              "      <th>0</th>\n",
              "      <td>calories</td>\n",
              "      <td>0.819102</td>\n",
              "    </tr>\n",
              "  </tbody>\n",
              "</table>\n",
              "</div>"
            ],
            "text/plain": [
              "    feature     coeff\n",
              "0  calories  0.819102"
            ]
          },
          "metadata": {
            "tags": []
          },
          "execution_count": 32
        }
      ]
    },
    {
      "cell_type": "code",
      "metadata": {
        "id": "7tpcC0U5Tyv6",
        "colab_type": "code",
        "colab": {}
      },
      "source": [
        "preds = model.predict(x_test)"
      ],
      "execution_count": 0,
      "outputs": []
    },
    {
      "cell_type": "code",
      "metadata": {
        "id": "gr4JiM25Tyv-",
        "colab_type": "code",
        "colab": {},
        "outputId": "2a56c9e0-643b-41ec-f949-c96aad4d606a"
      },
      "source": [
        "plt.scatter(y_test, preds)\n",
        "plt.xlabel(\"True Values\")\n",
        "plt.ylabel(\"Predictions\")"
      ],
      "execution_count": 0,
      "outputs": [
        {
          "output_type": "execute_result",
          "data": {
            "text/plain": [
              "Text(0, 0.5, 'Predictions')"
            ]
          },
          "metadata": {
            "tags": []
          },
          "execution_count": 34
        },
        {
          "output_type": "display_data",
          "data": {
            "image/png": "[encoded data removed]",
            "text/plain": [
              "<Figure size 432x288 with 1 Axes>"
            ]
          },
          "metadata": {
            "tags": [],
            "needs_background": "light"
          }
        }
      ]
    },
    {
      "cell_type": "code",
      "metadata": {
        "id": "RcWkAzsaTywB",
        "colab_type": "code",
        "colab": {},
        "outputId": "93231bdb-d299-47ce-c674-084a83542cc3"
      },
      "source": [
        "residuals = y_test - preds\n",
        "plt.scatter(model.predict(x_test), residuals,\n",
        "            c='b', s=40, alpha=0.5) # plot x_test vs residuals\n",
        "plt.title(\"Residuals Plot\")\n",
        "plt.xlabel(\"Testing Data\")\n",
        "plt.ylabel(\"Residuals\")"
      ],
      "execution_count": 0,
      "outputs": [
        {
          "output_type": "execute_result",
          "data": {
            "text/plain": [
              "Text(0, 0.5, 'Residuals')"
            ]
          },
          "metadata": {
            "tags": []
          },
          "execution_count": 35
        },
        {
          "output_type": "display_data",
          "data": {
            "image/png": "[encoded data removed]",
            "text/plain": [
              "<Figure size 432x288 with 1 Axes>"
            ]
          },
          "metadata": {
            "tags": [],
            "needs_background": "light"
          }
        }
      ]
    },
    {
      "cell_type": "markdown",
      "metadata": {
        "id": "BeoCeFz0TywE",
        "colab_type": "text"
      },
      "source": [
        "## Conclusion (40 points)\n",
        "In this final section, you should draw conclusions based on your analysis. Each of your conclusion should be supported with visualizations and pvalues and any other appropriate measurments for your dataset. "
      ]
    },
    {
      "cell_type": "code",
      "metadata": {
        "id": "k0oyM33vTywF",
        "colab_type": "code",
        "colab": {},
        "outputId": "058909d1-44f1-4b41-ab4d-b674042209e9"
      },
      "source": [
        "# Looking at the table, the number one factor that affects weight change is your daily calories intake\n",
        "# with the highest correlation at 0.773989\n",
        "dietscale.corr()"
      ],
      "execution_count": 0,
      "outputs": [
        {
          "output_type": "execute_result",
          "data": {
            "text/html": [
              "<div>\n",
              "<style scoped>\n",
              "    .dataframe tbody tr th:only-of-type {\n",
              "        vertical-align: middle;\n",
              "    }\n",
              "\n",
              "    .dataframe tbody tr th {\n",
              "        vertical-align: top;\n",
              "    }\n",
              "\n",
              "    .dataframe thead th {\n",
              "        text-align: right;\n",
              "    }\n",
              "</style>\n",
              "<table border=\"1\" class=\"dataframe\">\n",
              "  <thead>\n",
              "    <tr style=\"text-align: right;\">\n",
              "      <th></th>\n",
              "      <th>weight_oz</th>\n",
              "      <th>calories</th>\n",
              "      <th>change</th>\n",
              "    </tr>\n",
              "  </thead>\n",
              "  <tbody>\n",
              "    <tr>\n",
              "      <th>weight_oz</th>\n",
              "      <td>1.000000</td>\n",
              "      <td>-0.090605</td>\n",
              "      <td>-0.425912</td>\n",
              "    </tr>\n",
              "    <tr>\n",
              "      <th>calories</th>\n",
              "      <td>-0.090605</td>\n",
              "      <td>1.000000</td>\n",
              "      <td>0.773989</td>\n",
              "    </tr>\n",
              "    <tr>\n",
              "      <th>change</th>\n",
              "      <td>-0.425912</td>\n",
              "      <td>0.773989</td>\n",
              "      <td>1.000000</td>\n",
              "    </tr>\n",
              "  </tbody>\n",
              "</table>\n",
              "</div>"
            ],
            "text/plain": [
              "           weight_oz  calories    change\n",
              "weight_oz   1.000000 -0.090605 -0.425912\n",
              "calories   -0.090605  1.000000  0.773989\n",
              "change     -0.425912  0.773989  1.000000"
            ]
          },
          "metadata": {
            "tags": []
          },
          "execution_count": 36
        }
      ]
    },
    {
      "cell_type": "code",
      "metadata": {
        "id": "GFn5tugrTywH",
        "colab_type": "code",
        "colab": {},
        "outputId": "3b7e528f-1517-4bcc-aec0-6759f78d27a4"
      },
      "source": [
        "from scipy.stats import shapiro\n",
        "\n",
        "# run shapiro test and return the test stat and p value\n",
        "W_stat, p = shapiro(diety)\n",
        "print(\"W-statistic= {}, Pvalue= {}\".format(W_stat, p))\n",
        "\n",
        "# interpret the results\n",
        "alpha = 0.05\n",
        "if p > alpha:\n",
        "    print('Sample looks Gaussian (fail to reject H0)')\n",
        "else:\n",
        "    print('Sample does not look Gaussian (reject H0)')\n",
        "\n",
        "# it's not normally distributed but that doesn't really matter"
      ],
      "execution_count": 0,
      "outputs": [
        {
          "output_type": "stream",
          "text": [
            "W-statistic= 0.9754273891448975, Pvalue= 0.014065527357161045\n",
            "Sample does not look Gaussian (reject H0)\n"
          ],
          "name": "stdout"
        }
      ]
    },
    {
      "cell_type": "code",
      "metadata": {
        "id": "DiHDvj3XTywM",
        "colab_type": "code",
        "colab": {},
        "outputId": "67204b1c-f752-448f-ee75-bb5b7a5ca73d"
      },
      "source": [
        "# everything else such as lifting weight, drinking, eating donuts and stuff like that play mininal role\n",
        "# there can certain be effects but no enough to be casusal\n",
        "import seaborn as sns\n",
        "corr = diet.corr()\n",
        "sns.heatmap(corr, \n",
        "            vmin=0, vmax=1, # setting min and max probability\n",
        "            center=0.5, # changing to peach for high correlation, blue for low\n",
        "            xticklabels=corr.columns.values,\n",
        "            yticklabels=corr.columns.values)"
      ],
      "execution_count": 0,
      "outputs": [
        {
          "output_type": "execute_result",
          "data": {
            "text/plain": [
              "<matplotlib.axes._subplots.AxesSubplot at 0x26ac8904da0>"
            ]
          },
          "metadata": {
            "tags": []
          },
          "execution_count": 38
        },
        {
          "output_type": "display_data",
          "data": {
            "image/png": "[encoded data removed]",
            "text/plain": [
              "<Figure size 432x288 with 2 Axes>"
            ]
          },
          "metadata": {
            "tags": [],
            "needs_background": "light"
          }
        }
      ]
    },
    {
      "cell_type": "code",
      "metadata": {
        "id": "zNjOrGfATywP",
        "colab_type": "code",
        "colab": {},
        "outputId": "b1b731f9-556f-4a95-ab93-406d830a7bed"
      },
      "source": [
        "# Second part of the conclusion has to do with the predicatbility of this participant's behavior\n",
        "# looking at the second highest pair of correlation, we have weight and prot\n",
        "diet[['weight','prot']].corr()\n",
        "# this most likely incidicate they when the participant performed weight excersise during the day\n",
        "# the participant also had a high protein diet\n",
        "# however this combination doesn't necessary affect weight change"
      ],
      "execution_count": 0,
      "outputs": [
        {
          "output_type": "execute_result",
          "data": {
            "text/html": [
              "<div>\n",
              "<style scoped>\n",
              "    .dataframe tbody tr th:only-of-type {\n",
              "        vertical-align: middle;\n",
              "    }\n",
              "\n",
              "    .dataframe tbody tr th {\n",
              "        vertical-align: top;\n",
              "    }\n",
              "\n",
              "    .dataframe thead th {\n",
              "        text-align: right;\n",
              "    }\n",
              "</style>\n",
              "<table border=\"1\" class=\"dataframe\">\n",
              "  <thead>\n",
              "    <tr style=\"text-align: right;\">\n",
              "      <th></th>\n",
              "      <th>weight</th>\n",
              "      <th>prot</th>\n",
              "    </tr>\n",
              "  </thead>\n",
              "  <tbody>\n",
              "    <tr>\n",
              "      <th>weight</th>\n",
              "      <td>1.000000</td>\n",
              "      <td>0.522965</td>\n",
              "    </tr>\n",
              "    <tr>\n",
              "      <th>prot</th>\n",
              "      <td>0.522965</td>\n",
              "      <td>1.000000</td>\n",
              "    </tr>\n",
              "  </tbody>\n",
              "</table>\n",
              "</div>"
            ],
            "text/plain": [
              "          weight      prot\n",
              "weight  1.000000  0.522965\n",
              "prot    0.522965  1.000000"
            ]
          },
          "metadata": {
            "tags": []
          },
          "execution_count": 40
        }
      ]
    }
  ]
}